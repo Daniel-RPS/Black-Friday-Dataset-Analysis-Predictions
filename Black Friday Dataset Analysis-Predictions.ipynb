{
 "cells": [
  {
   "cell_type": "markdown",
   "metadata": {},
   "source": [
    "<img src=\"black-friday.jpg\" height=\"12px\">\n",
    "\n",
    "# Análise e Previsão de vendas da Black Friday\n",
    "\n",
    "Este conjunto de dados é composto por transações de vendas capturadas em uma loja de varejo. É um conjunto de dados clássico para explorar e expandir as habilidades de engenharia de recursos e compreensão do dia a dia de várias experiências de compra. O conjunto de dados possui 550.069 linhas e 12 colunas. O projeto consiste na análise e a aplicação de algoritmos de machine learning de regressão ponta a ponta baseado no capítulo 2 do livro 'Mãos à Obra: Aprendizado de Máquina com Scikit-Learn & TensorFlow' de Aurélien Géron.\n",
    "\n",
    "This dataset comprises of sales transactions captured at a retail store. It is a classic data set for exploring and expanding the resource engineering skills and day-to-day understanding of various shopping experiences. The dataset has 550,069 rows and 12 columns. The project consists of analyzing and applying end-to-end regression machine learning algorithms based on chapter 2 of the book 'Hands on Work: Machine Learning with Scikit-Learn & TensorFlow' by Aurélien Géron.\n",
    "\n",
    "Link original: https://datahack.analyticsvidhya.com/contest/black-friday/\n",
    "\n",
    "**Objetivo**: Determinar qual o melhor modelo de regressão para este problema.\n",
    "\n",
    "\n",
    "\n",
    "**Problem**: Determine the best regression model for this problem."
   ]
  },
  {
   "cell_type": "markdown",
   "metadata": {},
   "source": [
    "## Obtendo os dados"
   ]
  },
  {
   "cell_type": "markdown",
   "metadata": {},
   "source": [
    "#### Bibliotecas"
   ]
  },
  {
   "cell_type": "code",
   "execution_count": 1,
   "metadata": {},
   "outputs": [],
   "source": [
    "import pandas as pd\n",
    "import numpy as np\n",
    "import seaborn as sns\n",
    "import matplotlib.pyplot as plt\n",
    "%matplotlib inline\n",
    "\n",
    "import warnings\n",
    "warnings.filterwarnings(\"ignore\")"
   ]
  },
  {
   "cell_type": "code",
   "execution_count": 2,
   "metadata": {},
   "outputs": [
    {
     "data": {
      "text/html": [
       "<div>\n",
       "<style scoped>\n",
       "    .dataframe tbody tr th:only-of-type {\n",
       "        vertical-align: middle;\n",
       "    }\n",
       "\n",
       "    .dataframe tbody tr th {\n",
       "        vertical-align: top;\n",
       "    }\n",
       "\n",
       "    .dataframe thead th {\n",
       "        text-align: right;\n",
       "    }\n",
       "</style>\n",
       "<table border=\"1\" class=\"dataframe\">\n",
       "  <thead>\n",
       "    <tr style=\"text-align: right;\">\n",
       "      <th></th>\n",
       "      <th>User_ID</th>\n",
       "      <th>Product_ID</th>\n",
       "      <th>Gender</th>\n",
       "      <th>Age</th>\n",
       "      <th>Occupation</th>\n",
       "      <th>City_Category</th>\n",
       "      <th>Stay_In_Current_City_Years</th>\n",
       "      <th>Marital_Status</th>\n",
       "      <th>Product_Category_1</th>\n",
       "      <th>Product_Category_2</th>\n",
       "      <th>Product_Category_3</th>\n",
       "      <th>Purchase</th>\n",
       "    </tr>\n",
       "  </thead>\n",
       "  <tbody>\n",
       "    <tr>\n",
       "      <th>0</th>\n",
       "      <td>1000001</td>\n",
       "      <td>P00069042</td>\n",
       "      <td>F</td>\n",
       "      <td>0-17</td>\n",
       "      <td>10</td>\n",
       "      <td>A</td>\n",
       "      <td>2</td>\n",
       "      <td>0</td>\n",
       "      <td>3</td>\n",
       "      <td>NaN</td>\n",
       "      <td>NaN</td>\n",
       "      <td>8370</td>\n",
       "    </tr>\n",
       "    <tr>\n",
       "      <th>1</th>\n",
       "      <td>1000001</td>\n",
       "      <td>P00248942</td>\n",
       "      <td>F</td>\n",
       "      <td>0-17</td>\n",
       "      <td>10</td>\n",
       "      <td>A</td>\n",
       "      <td>2</td>\n",
       "      <td>0</td>\n",
       "      <td>1</td>\n",
       "      <td>6.0</td>\n",
       "      <td>14.0</td>\n",
       "      <td>15200</td>\n",
       "    </tr>\n",
       "    <tr>\n",
       "      <th>2</th>\n",
       "      <td>1000001</td>\n",
       "      <td>P00087842</td>\n",
       "      <td>F</td>\n",
       "      <td>0-17</td>\n",
       "      <td>10</td>\n",
       "      <td>A</td>\n",
       "      <td>2</td>\n",
       "      <td>0</td>\n",
       "      <td>12</td>\n",
       "      <td>NaN</td>\n",
       "      <td>NaN</td>\n",
       "      <td>1422</td>\n",
       "    </tr>\n",
       "    <tr>\n",
       "      <th>3</th>\n",
       "      <td>1000001</td>\n",
       "      <td>P00085442</td>\n",
       "      <td>F</td>\n",
       "      <td>0-17</td>\n",
       "      <td>10</td>\n",
       "      <td>A</td>\n",
       "      <td>2</td>\n",
       "      <td>0</td>\n",
       "      <td>12</td>\n",
       "      <td>14.0</td>\n",
       "      <td>NaN</td>\n",
       "      <td>1057</td>\n",
       "    </tr>\n",
       "    <tr>\n",
       "      <th>4</th>\n",
       "      <td>1000002</td>\n",
       "      <td>P00285442</td>\n",
       "      <td>M</td>\n",
       "      <td>55+</td>\n",
       "      <td>16</td>\n",
       "      <td>C</td>\n",
       "      <td>4+</td>\n",
       "      <td>0</td>\n",
       "      <td>8</td>\n",
       "      <td>NaN</td>\n",
       "      <td>NaN</td>\n",
       "      <td>7969</td>\n",
       "    </tr>\n",
       "  </tbody>\n",
       "</table>\n",
       "</div>"
      ],
      "text/plain": [
       "   User_ID Product_ID Gender   Age  Occupation City_Category  \\\n",
       "0  1000001  P00069042      F  0-17          10             A   \n",
       "1  1000001  P00248942      F  0-17          10             A   \n",
       "2  1000001  P00087842      F  0-17          10             A   \n",
       "3  1000001  P00085442      F  0-17          10             A   \n",
       "4  1000002  P00285442      M   55+          16             C   \n",
       "\n",
       "  Stay_In_Current_City_Years  Marital_Status  Product_Category_1  \\\n",
       "0                          2               0                   3   \n",
       "1                          2               0                   1   \n",
       "2                          2               0                  12   \n",
       "3                          2               0                  12   \n",
       "4                         4+               0                   8   \n",
       "\n",
       "   Product_Category_2  Product_Category_3  Purchase  \n",
       "0                 NaN                 NaN      8370  \n",
       "1                 6.0                14.0     15200  \n",
       "2                 NaN                 NaN      1422  \n",
       "3                14.0                 NaN      1057  \n",
       "4                 NaN                 NaN      7969  "
      ]
     },
     "execution_count": 2,
     "metadata": {},
     "output_type": "execute_result"
    }
   ],
   "source": [
    "df = pd.read_csv('https://raw.githubusercontent.com/Daniel-RPS/Black-Friday-Dataset-Analysis-Predictions/main/BlackFriday.csv')\n",
    "df.head()"
   ]
  },
  {
   "cell_type": "code",
   "execution_count": 3,
   "metadata": {},
   "outputs": [
    {
     "data": {
      "text/plain": [
       "Index(['User_ID', 'Product_ID', 'Gender', 'Age', 'Occupation', 'City_Category',\n",
       "       'Stay_In_Current_City_Years', 'Marital_Status', 'Product_Category_1',\n",
       "       'Product_Category_2', 'Product_Category_3', 'Purchase'],\n",
       "      dtype='object')"
      ]
     },
     "execution_count": 3,
     "metadata": {},
     "output_type": "execute_result"
    }
   ],
   "source": [
    "df.columns #Colunas"
   ]
  },
  {
   "cell_type": "markdown",
   "metadata": {},
   "source": [
    "#### Dicionário de dados"
   ]
  },
  {
   "cell_type": "markdown",
   "metadata": {},
   "source": [
    "* `User_ID`: Unique ID of the user. There are a total of 5891 users in the dataset.\n",
    "* `Product_ID`: Unique ID of the product. There are a total of 3623 products in the dataset.\n",
    "* `Gender`: indicates the gender of the person making the transaction.\n",
    "* `Age`: indicates the age group of the person making the transaction.\n",
    "* `Occupation`: shows the occupation of the user, already labeled with numbers 0 to 20.\n",
    "* `City_Category`: User's living city category. Cities are categorized into 3 different categories 'A', 'B' and 'C'.\n",
    "* `Stay_In_Current_City_Years`: Indicates how long the users has lived in this city.\n",
    "* `Marital_Status`: is 0 if the user is not married and 1 otherwise.\n",
    "* `Product_Category_1 to _3`: Category of the product. All 3 are already labaled with numbers.\n",
    "* `Purchase`: Purchase amount."
   ]
  },
  {
   "cell_type": "code",
   "execution_count": 4,
   "metadata": {},
   "outputs": [
    {
     "data": {
      "text/plain": [
       "(537577, 12)"
      ]
     },
     "execution_count": 4,
     "metadata": {},
     "output_type": "execute_result"
    }
   ],
   "source": [
    "df.shape #linhas e colunas."
   ]
  },
  {
   "cell_type": "code",
   "execution_count": 5,
   "metadata": {},
   "outputs": [
    {
     "name": "stdout",
     "output_type": "stream",
     "text": [
      "<class 'pandas.core.frame.DataFrame'>\n",
      "RangeIndex: 537577 entries, 0 to 537576\n",
      "Data columns (total 12 columns):\n",
      " #   Column                      Non-Null Count   Dtype  \n",
      "---  ------                      --------------   -----  \n",
      " 0   User_ID                     537577 non-null  int64  \n",
      " 1   Product_ID                  537577 non-null  object \n",
      " 2   Gender                      537577 non-null  object \n",
      " 3   Age                         537577 non-null  object \n",
      " 4   Occupation                  537577 non-null  int64  \n",
      " 5   City_Category               537577 non-null  object \n",
      " 6   Stay_In_Current_City_Years  537577 non-null  object \n",
      " 7   Marital_Status              537577 non-null  int64  \n",
      " 8   Product_Category_1          537577 non-null  int64  \n",
      " 9   Product_Category_2          370591 non-null  float64\n",
      " 10  Product_Category_3          164278 non-null  float64\n",
      " 11  Purchase                    537577 non-null  int64  \n",
      "dtypes: float64(2), int64(5), object(5)\n",
      "memory usage: 49.2+ MB\n"
     ]
    }
   ],
   "source": [
    "df.info() #descrição dos dados"
   ]
  },
  {
   "cell_type": "code",
   "execution_count": 6,
   "metadata": {},
   "outputs": [
    {
     "data": {
      "text/html": [
       "<div>\n",
       "<style scoped>\n",
       "    .dataframe tbody tr th:only-of-type {\n",
       "        vertical-align: middle;\n",
       "    }\n",
       "\n",
       "    .dataframe tbody tr th {\n",
       "        vertical-align: top;\n",
       "    }\n",
       "\n",
       "    .dataframe thead th {\n",
       "        text-align: right;\n",
       "    }\n",
       "</style>\n",
       "<table border=\"1\" class=\"dataframe\">\n",
       "  <thead>\n",
       "    <tr style=\"text-align: right;\">\n",
       "      <th></th>\n",
       "      <th>User_ID</th>\n",
       "      <th>Occupation</th>\n",
       "      <th>Marital_Status</th>\n",
       "      <th>Product_Category_1</th>\n",
       "      <th>Product_Category_2</th>\n",
       "      <th>Product_Category_3</th>\n",
       "      <th>Purchase</th>\n",
       "    </tr>\n",
       "  </thead>\n",
       "  <tbody>\n",
       "    <tr>\n",
       "      <th>count</th>\n",
       "      <td>5.375770e+05</td>\n",
       "      <td>537577.00000</td>\n",
       "      <td>537577.000000</td>\n",
       "      <td>537577.000000</td>\n",
       "      <td>370591.000000</td>\n",
       "      <td>164278.000000</td>\n",
       "      <td>537577.000000</td>\n",
       "    </tr>\n",
       "    <tr>\n",
       "      <th>mean</th>\n",
       "      <td>1.002992e+06</td>\n",
       "      <td>8.08271</td>\n",
       "      <td>0.408797</td>\n",
       "      <td>5.295546</td>\n",
       "      <td>9.842144</td>\n",
       "      <td>12.669840</td>\n",
       "      <td>9333.859853</td>\n",
       "    </tr>\n",
       "    <tr>\n",
       "      <th>std</th>\n",
       "      <td>1.714393e+03</td>\n",
       "      <td>6.52412</td>\n",
       "      <td>0.491612</td>\n",
       "      <td>3.750701</td>\n",
       "      <td>5.087259</td>\n",
       "      <td>4.124341</td>\n",
       "      <td>4981.022133</td>\n",
       "    </tr>\n",
       "    <tr>\n",
       "      <th>min</th>\n",
       "      <td>1.000001e+06</td>\n",
       "      <td>0.00000</td>\n",
       "      <td>0.000000</td>\n",
       "      <td>1.000000</td>\n",
       "      <td>2.000000</td>\n",
       "      <td>3.000000</td>\n",
       "      <td>185.000000</td>\n",
       "    </tr>\n",
       "    <tr>\n",
       "      <th>25%</th>\n",
       "      <td>1.001495e+06</td>\n",
       "      <td>2.00000</td>\n",
       "      <td>0.000000</td>\n",
       "      <td>1.000000</td>\n",
       "      <td>5.000000</td>\n",
       "      <td>9.000000</td>\n",
       "      <td>5866.000000</td>\n",
       "    </tr>\n",
       "    <tr>\n",
       "      <th>50%</th>\n",
       "      <td>1.003031e+06</td>\n",
       "      <td>7.00000</td>\n",
       "      <td>0.000000</td>\n",
       "      <td>5.000000</td>\n",
       "      <td>9.000000</td>\n",
       "      <td>14.000000</td>\n",
       "      <td>8062.000000</td>\n",
       "    </tr>\n",
       "    <tr>\n",
       "      <th>75%</th>\n",
       "      <td>1.004417e+06</td>\n",
       "      <td>14.00000</td>\n",
       "      <td>1.000000</td>\n",
       "      <td>8.000000</td>\n",
       "      <td>15.000000</td>\n",
       "      <td>16.000000</td>\n",
       "      <td>12073.000000</td>\n",
       "    </tr>\n",
       "    <tr>\n",
       "      <th>max</th>\n",
       "      <td>1.006040e+06</td>\n",
       "      <td>20.00000</td>\n",
       "      <td>1.000000</td>\n",
       "      <td>18.000000</td>\n",
       "      <td>18.000000</td>\n",
       "      <td>18.000000</td>\n",
       "      <td>23961.000000</td>\n",
       "    </tr>\n",
       "  </tbody>\n",
       "</table>\n",
       "</div>"
      ],
      "text/plain": [
       "            User_ID    Occupation  Marital_Status  Product_Category_1  \\\n",
       "count  5.375770e+05  537577.00000   537577.000000       537577.000000   \n",
       "mean   1.002992e+06       8.08271        0.408797            5.295546   \n",
       "std    1.714393e+03       6.52412        0.491612            3.750701   \n",
       "min    1.000001e+06       0.00000        0.000000            1.000000   \n",
       "25%    1.001495e+06       2.00000        0.000000            1.000000   \n",
       "50%    1.003031e+06       7.00000        0.000000            5.000000   \n",
       "75%    1.004417e+06      14.00000        1.000000            8.000000   \n",
       "max    1.006040e+06      20.00000        1.000000           18.000000   \n",
       "\n",
       "       Product_Category_2  Product_Category_3       Purchase  \n",
       "count       370591.000000       164278.000000  537577.000000  \n",
       "mean             9.842144           12.669840    9333.859853  \n",
       "std              5.087259            4.124341    4981.022133  \n",
       "min              2.000000            3.000000     185.000000  \n",
       "25%              5.000000            9.000000    5866.000000  \n",
       "50%              9.000000           14.000000    8062.000000  \n",
       "75%             15.000000           16.000000   12073.000000  \n",
       "max             18.000000           18.000000   23961.000000  "
      ]
     },
     "execution_count": 6,
     "metadata": {},
     "output_type": "execute_result"
    }
   ],
   "source": [
    "df.describe() #sumário de atributos numéricos"
   ]
  },
  {
   "cell_type": "code",
   "execution_count": 7,
   "metadata": {},
   "outputs": [
    {
     "data": {
      "text/html": [
       "<div>\n",
       "<style scoped>\n",
       "    .dataframe tbody tr th:only-of-type {\n",
       "        vertical-align: middle;\n",
       "    }\n",
       "\n",
       "    .dataframe tbody tr th {\n",
       "        vertical-align: top;\n",
       "    }\n",
       "\n",
       "    .dataframe thead th {\n",
       "        text-align: right;\n",
       "    }\n",
       "</style>\n",
       "<table border=\"1\" class=\"dataframe\">\n",
       "  <thead>\n",
       "    <tr style=\"text-align: right;\">\n",
       "      <th></th>\n",
       "      <th>Product_ID</th>\n",
       "      <th>Gender</th>\n",
       "      <th>Age</th>\n",
       "      <th>City_Category</th>\n",
       "      <th>Stay_In_Current_City_Years</th>\n",
       "    </tr>\n",
       "  </thead>\n",
       "  <tbody>\n",
       "    <tr>\n",
       "      <th>count</th>\n",
       "      <td>537577</td>\n",
       "      <td>537577</td>\n",
       "      <td>537577</td>\n",
       "      <td>537577</td>\n",
       "      <td>537577</td>\n",
       "    </tr>\n",
       "    <tr>\n",
       "      <th>unique</th>\n",
       "      <td>3623</td>\n",
       "      <td>2</td>\n",
       "      <td>7</td>\n",
       "      <td>3</td>\n",
       "      <td>5</td>\n",
       "    </tr>\n",
       "    <tr>\n",
       "      <th>top</th>\n",
       "      <td>P00265242</td>\n",
       "      <td>M</td>\n",
       "      <td>26-35</td>\n",
       "      <td>B</td>\n",
       "      <td>1</td>\n",
       "    </tr>\n",
       "    <tr>\n",
       "      <th>freq</th>\n",
       "      <td>1858</td>\n",
       "      <td>405380</td>\n",
       "      <td>214690</td>\n",
       "      <td>226493</td>\n",
       "      <td>189192</td>\n",
       "    </tr>\n",
       "  </tbody>\n",
       "</table>\n",
       "</div>"
      ],
      "text/plain": [
       "       Product_ID  Gender     Age City_Category Stay_In_Current_City_Years\n",
       "count      537577  537577  537577        537577                     537577\n",
       "unique       3623       2       7             3                          5\n",
       "top     P00265242       M   26-35             B                          1\n",
       "freq         1858  405380  214690        226493                     189192"
      ]
     },
     "execution_count": 7,
     "metadata": {},
     "output_type": "execute_result"
    }
   ],
   "source": [
    "df.describe(include='O') #descrição estatística das variáveis catgóricas"
   ]
  },
  {
   "cell_type": "code",
   "execution_count": 8,
   "metadata": {},
   "outputs": [
    {
     "data": {
      "text/plain": [
       "User_ID                            0\n",
       "Product_ID                         0\n",
       "Gender                             0\n",
       "Age                                0\n",
       "Occupation                         0\n",
       "City_Category                      0\n",
       "Stay_In_Current_City_Years         0\n",
       "Marital_Status                     0\n",
       "Product_Category_1                 0\n",
       "Product_Category_2            166986\n",
       "Product_Category_3            373299\n",
       "Purchase                           0\n",
       "dtype: int64"
      ]
     },
     "execution_count": 8,
     "metadata": {},
     "output_type": "execute_result"
    }
   ],
   "source": [
    "#Valores nulos no dataset\n",
    "df.isnull().sum()"
   ]
  },
  {
   "cell_type": "code",
   "execution_count": 9,
   "metadata": {},
   "outputs": [],
   "source": [
    "# Transformando os valores nulos na média de cada atributo\n",
    "import math\n",
    "med_cat2 = df['Product_Category_2'].mean()\n",
    "med_cat3 = df['Product_Category_3'].mean()\n",
    "\n",
    "med_cat2 = math.floor(med_cat2)\n",
    "med_cat3 = math.floor(med_cat3)\n",
    "\n",
    "df['Product_Category_2'].fillna(med_cat2, inplace=True)\n",
    "df['Product_Category_3'].fillna(med_cat3, inplace=True)"
   ]
  },
  {
   "cell_type": "markdown",
   "metadata": {},
   "source": [
    "### Retirando todos os valores não numéricos\n",
    "#### 'Stay_In_Current_City_Years' pode ser um valor numérico. O sinal de '+' pode ser retirado e o atributo ser tranformado em numérico"
   ]
  },
  {
   "cell_type": "code",
   "execution_count": 10,
   "metadata": {},
   "outputs": [],
   "source": [
    "#Retiando o sinal de '+'\n",
    "df['Stay_In_Current_City_Years'] = [x[:1] for x in df['Stay_In_Current_City_Years']]\n",
    "\n",
    "#Transformando a coluna 'Stay_In_Current_City_Years' em int64\n",
    "df['Stay_In_Current_City_Years'] = df['Stay_In_Current_City_Years'].astype(np.int64)"
   ]
  },
  {
   "cell_type": "code",
   "execution_count": 11,
   "metadata": {},
   "outputs": [
    {
     "data": {
      "text/plain": [
       "User_ID                       0\n",
       "Product_ID                    0\n",
       "Gender                        0\n",
       "Age                           0\n",
       "Occupation                    0\n",
       "City_Category                 0\n",
       "Stay_In_Current_City_Years    0\n",
       "Marital_Status                0\n",
       "Product_Category_1            0\n",
       "Product_Category_2            0\n",
       "Product_Category_3            0\n",
       "Purchase                      0\n",
       "dtype: int64"
      ]
     },
     "execution_count": 11,
     "metadata": {},
     "output_type": "execute_result"
    }
   ],
   "source": [
    "#Valores nulos no dataset\n",
    "df.isnull().sum()"
   ]
  },
  {
   "cell_type": "code",
   "execution_count": 12,
   "metadata": {},
   "outputs": [
    {
     "data": {
      "image/png": "[encoded data removed]",
      "text/plain": [
       "<Figure size 1440x1080 with 9 Axes>"
      ]
     },
     "metadata": {
      "needs_background": "light"
     },
     "output_type": "display_data"
    }
   ],
   "source": [
    "df.hist(bins=50,figsize=(20,15))#histograma\n",
    "plt.show()"
   ]
  },
  {
   "cell_type": "markdown",
   "metadata": {},
   "source": [
    "## Criando Conjunto de Testes\n",
    "\n",
    "#### Escolher o modelo adequado"
   ]
  },
  {
   "cell_type": "code",
   "execution_count": 13,
   "metadata": {},
   "outputs": [],
   "source": [
    "from sklearn.model_selection import train_test_split\n",
    "train_set, test_set = train_test_split(df, test_size=0.2, random_state=42)"
   ]
  },
  {
   "cell_type": "code",
   "execution_count": 14,
   "metadata": {},
   "outputs": [
    {
     "data": {
      "text/html": [
       "<div>\n",
       "<style scoped>\n",
       "    .dataframe tbody tr th:only-of-type {\n",
       "        vertical-align: middle;\n",
       "    }\n",
       "\n",
       "    .dataframe tbody tr th {\n",
       "        vertical-align: top;\n",
       "    }\n",
       "\n",
       "    .dataframe thead th {\n",
       "        text-align: right;\n",
       "    }\n",
       "</style>\n",
       "<table border=\"1\" class=\"dataframe\">\n",
       "  <thead>\n",
       "    <tr style=\"text-align: right;\">\n",
       "      <th></th>\n",
       "      <th>User_ID</th>\n",
       "      <th>Product_ID</th>\n",
       "      <th>Gender</th>\n",
       "      <th>Age</th>\n",
       "      <th>Occupation</th>\n",
       "      <th>City_Category</th>\n",
       "      <th>Stay_In_Current_City_Years</th>\n",
       "      <th>Marital_Status</th>\n",
       "      <th>Product_Category_1</th>\n",
       "      <th>Product_Category_2</th>\n",
       "      <th>Product_Category_3</th>\n",
       "      <th>Purchase</th>\n",
       "    </tr>\n",
       "  </thead>\n",
       "  <tbody>\n",
       "    <tr>\n",
       "      <th>287383</th>\n",
       "      <td>1002194</td>\n",
       "      <td>P00191442</td>\n",
       "      <td>M</td>\n",
       "      <td>26-35</td>\n",
       "      <td>17</td>\n",
       "      <td>C</td>\n",
       "      <td>3</td>\n",
       "      <td>0</td>\n",
       "      <td>1</td>\n",
       "      <td>2.0</td>\n",
       "      <td>15.0</td>\n",
       "      <td>8058</td>\n",
       "    </tr>\n",
       "    <tr>\n",
       "      <th>130087</th>\n",
       "      <td>1001983</td>\n",
       "      <td>P00147942</td>\n",
       "      <td>M</td>\n",
       "      <td>26-35</td>\n",
       "      <td>14</td>\n",
       "      <td>A</td>\n",
       "      <td>3</td>\n",
       "      <td>0</td>\n",
       "      <td>1</td>\n",
       "      <td>16.0</td>\n",
       "      <td>12.0</td>\n",
       "      <td>19297</td>\n",
       "    </tr>\n",
       "    <tr>\n",
       "      <th>104368</th>\n",
       "      <td>1004064</td>\n",
       "      <td>P00035642</td>\n",
       "      <td>M</td>\n",
       "      <td>46-50</td>\n",
       "      <td>0</td>\n",
       "      <td>A</td>\n",
       "      <td>1</td>\n",
       "      <td>1</td>\n",
       "      <td>8</td>\n",
       "      <td>9.0</td>\n",
       "      <td>12.0</td>\n",
       "      <td>6121</td>\n",
       "    </tr>\n",
       "    <tr>\n",
       "      <th>370791</th>\n",
       "      <td>1003140</td>\n",
       "      <td>P00212842</td>\n",
       "      <td>F</td>\n",
       "      <td>26-35</td>\n",
       "      <td>4</td>\n",
       "      <td>C</td>\n",
       "      <td>1</td>\n",
       "      <td>0</td>\n",
       "      <td>8</td>\n",
       "      <td>16.0</td>\n",
       "      <td>12.0</td>\n",
       "      <td>8130</td>\n",
       "    </tr>\n",
       "    <tr>\n",
       "      <th>121991</th>\n",
       "      <td>1000864</td>\n",
       "      <td>P00083842</td>\n",
       "      <td>F</td>\n",
       "      <td>26-35</td>\n",
       "      <td>0</td>\n",
       "      <td>B</td>\n",
       "      <td>3</td>\n",
       "      <td>0</td>\n",
       "      <td>5</td>\n",
       "      <td>14.0</td>\n",
       "      <td>12.0</td>\n",
       "      <td>8676</td>\n",
       "    </tr>\n",
       "  </tbody>\n",
       "</table>\n",
       "</div>"
      ],
      "text/plain": [
       "        User_ID Product_ID Gender    Age  Occupation City_Category  \\\n",
       "287383  1002194  P00191442      M  26-35          17             C   \n",
       "130087  1001983  P00147942      M  26-35          14             A   \n",
       "104368  1004064  P00035642      M  46-50           0             A   \n",
       "370791  1003140  P00212842      F  26-35           4             C   \n",
       "121991  1000864  P00083842      F  26-35           0             B   \n",
       "\n",
       "        Stay_In_Current_City_Years  Marital_Status  Product_Category_1  \\\n",
       "287383                           3               0                   1   \n",
       "130087                           3               0                   1   \n",
       "104368                           1               1                   8   \n",
       "370791                           1               0                   8   \n",
       "121991                           3               0                   5   \n",
       "\n",
       "        Product_Category_2  Product_Category_3  Purchase  \n",
       "287383                 2.0                15.0      8058  \n",
       "130087                16.0                12.0     19297  \n",
       "104368                 9.0                12.0      6121  \n",
       "370791                16.0                12.0      8130  \n",
       "121991                14.0                12.0      8676  "
      ]
     },
     "execution_count": 14,
     "metadata": {},
     "output_type": "execute_result"
    }
   ],
   "source": [
    "test_set.head()"
   ]
  },
  {
   "cell_type": "markdown",
   "metadata": {},
   "source": [
    "#### Qual atributo é o mais importante para estimar o valor da compra?\n",
    "\n",
    "#### De acordo com a tabela de correlações, é o Product_Category_1. Portanto, será feita uma amostragem estratificada deste atributo"
   ]
  },
  {
   "cell_type": "code",
   "execution_count": 15,
   "metadata": {},
   "outputs": [
    {
     "data": {
      "text/plain": [
       "Purchase                      1.000000\n",
       "Product_Category_3            0.029129\n",
       "Occupation                    0.021104\n",
       "Stay_In_Current_City_Years    0.005470\n",
       "User_ID                       0.005389\n",
       "Marital_Status                0.000129\n",
       "Product_Category_2           -0.160510\n",
       "Product_Category_1           -0.314125\n",
       "Name: Purchase, dtype: float64"
      ]
     },
     "execution_count": 15,
     "metadata": {},
     "output_type": "execute_result"
    }
   ],
   "source": [
    "corr_matrix = df.corr()\n",
    "corr_matrix['Purchase'].sort_values(ascending=False)"
   ]
  },
  {
   "cell_type": "markdown",
   "metadata": {},
   "source": [
    "#### Criando um atributo na categoria Product_Category_1"
   ]
  },
  {
   "cell_type": "code",
   "execution_count": 16,
   "metadata": {},
   "outputs": [
    {
     "data": {
      "image/png": "[encoded data removed]",
      "text/plain": [
       "<Figure size 432x288 with 1 Axes>"
      ]
     },
     "metadata": {
      "needs_background": "light"
     },
     "output_type": "display_data"
    }
   ],
   "source": [
    "df[\"Product_Category_1\"].hist();"
   ]
  },
  {
   "cell_type": "code",
   "execution_count": 17,
   "metadata": {},
   "outputs": [],
   "source": [
    "df[\"pc1_cat\"] = pd.cut(df[\"Product_Category_1\"],\n",
    "                               bins=[0., 1.5, 3.0, 4.5, 6., np.inf],\n",
    "                               labels=[1, 2, 3, 4, 5])"
   ]
  },
  {
   "cell_type": "code",
   "execution_count": 18,
   "metadata": {},
   "outputs": [],
   "source": [
    "#Transformando 'pc1_cat' em float.\n",
    "df['pc1_cat'] = df['pc1_cat'].astype(float)\n",
    "# Em seguida, os valores nulos foram transformados na média de cada atributo\n",
    "med_pc1 = df['pc1_cat'].mean()\n",
    "med_pc1 = math.floor(med_pc1)\n",
    "df['pc1_cat'].fillna(med_pc1, inplace=True)"
   ]
  },
  {
   "cell_type": "code",
   "execution_count": 19,
   "metadata": {},
   "outputs": [
    {
     "data": {
      "text/plain": [
       "5.0    175553\n",
       "4.0    168756\n",
       "1.0    138353\n",
       "2.0     43348\n",
       "3.0     11567\n",
       "Name: pc1_cat, dtype: int64"
      ]
     },
     "execution_count": 19,
     "metadata": {},
     "output_type": "execute_result"
    }
   ],
   "source": [
    "df[\"pc1_cat\"].value_counts()"
   ]
  },
  {
   "cell_type": "code",
   "execution_count": 20,
   "metadata": {},
   "outputs": [
    {
     "data": {
      "image/png": "[encoded data removed]",
      "text/plain": [
       "<Figure size 432x288 with 1 Axes>"
      ]
     },
     "metadata": {
      "needs_background": "light"
     },
     "output_type": "display_data"
    }
   ],
   "source": [
    "df[\"pc1_cat\"].hist();"
   ]
  },
  {
   "cell_type": "markdown",
   "metadata": {},
   "source": [
    "#### Mostragem estratificada com base nos Produtos de Categoria 1"
   ]
  },
  {
   "cell_type": "code",
   "execution_count": 21,
   "metadata": {},
   "outputs": [],
   "source": [
    "from sklearn.model_selection import StratifiedShuffleSplit\n",
    "\n",
    "split = StratifiedShuffleSplit(n_splits=1, test_size=0.2, random_state=42)\n",
    "for train_index, test_index in split.split(df, df[\"pc1_cat\"]):\n",
    "    strat_train_set = df.loc[train_index]\n",
    "    strat_test_set = df.loc[test_index]"
   ]
  },
  {
   "cell_type": "code",
   "execution_count": 22,
   "metadata": {},
   "outputs": [
    {
     "data": {
      "text/plain": [
       "5.0    0.326565\n",
       "4.0    0.313916\n",
       "1.0    0.257366\n",
       "2.0    0.080639\n",
       "3.0    0.021513\n",
       "Name: pc1_cat, dtype: float64"
      ]
     },
     "execution_count": 22,
     "metadata": {},
     "output_type": "execute_result"
    }
   ],
   "source": [
    "#Análise das proporções de Produtos de Categoria 1 no conjunto de testes\n",
    "strat_test_set[\"pc1_cat\"].value_counts() / len(strat_test_set)"
   ]
  },
  {
   "cell_type": "code",
   "execution_count": 23,
   "metadata": {},
   "outputs": [
    {
     "data": {
      "text/plain": [
       "5.0    0.326563\n",
       "4.0    0.313920\n",
       "1.0    0.257364\n",
       "2.0    0.080636\n",
       "3.0    0.021517\n",
       "Name: pc1_cat, dtype: float64"
      ]
     },
     "execution_count": 23,
     "metadata": {},
     "output_type": "execute_result"
    }
   ],
   "source": [
    "#Análise das proporções de Produtos de Categoria 1 no conjunto completo de dados\n",
    "df[\"pc1_cat\"].value_counts() / len(df)"
   ]
  },
  {
   "cell_type": "code",
   "execution_count": 24,
   "metadata": {},
   "outputs": [],
   "source": [
    "def income_cat_proportions(data):\n",
    "    return data[\"pc1_cat\"].value_counts() / len(data)\n",
    "\n",
    "train_set, test_set = train_test_split(df, test_size=0.2, random_state=42)\n",
    "\n",
    "compare_props = pd.DataFrame({\n",
    "    \"Overall\": income_cat_proportions(df),\n",
    "    \"Stratified\": income_cat_proportions(strat_test_set),\n",
    "    \"Random\": income_cat_proportions(test_set),\n",
    "}).sort_index()\n",
    "compare_props[\"Rand. %error\"] = 100 * compare_props[\"Random\"] / compare_props[\"Overall\"] - 100\n",
    "compare_props[\"Strat. %error\"] = 100 * compare_props[\"Stratified\"] / compare_props[\"Overall\"] - 100"
   ]
  },
  {
   "cell_type": "markdown",
   "metadata": {},
   "source": [
    "#### Comparação de viés de amostragem estratificada versus mostragem aleatória"
   ]
  },
  {
   "cell_type": "code",
   "execution_count": 25,
   "metadata": {},
   "outputs": [
    {
     "data": {
      "text/html": [
       "<div>\n",
       "<style scoped>\n",
       "    .dataframe tbody tr th:only-of-type {\n",
       "        vertical-align: middle;\n",
       "    }\n",
       "\n",
       "    .dataframe tbody tr th {\n",
       "        vertical-align: top;\n",
       "    }\n",
       "\n",
       "    .dataframe thead th {\n",
       "        text-align: right;\n",
       "    }\n",
       "</style>\n",
       "<table border=\"1\" class=\"dataframe\">\n",
       "  <thead>\n",
       "    <tr style=\"text-align: right;\">\n",
       "      <th></th>\n",
       "      <th>Overall</th>\n",
       "      <th>Stratified</th>\n",
       "      <th>Random</th>\n",
       "      <th>Rand. %error</th>\n",
       "      <th>Strat. %error</th>\n",
       "    </tr>\n",
       "  </thead>\n",
       "  <tbody>\n",
       "    <tr>\n",
       "      <th>1.0</th>\n",
       "      <td>0.257364</td>\n",
       "      <td>0.257366</td>\n",
       "      <td>0.257869</td>\n",
       "      <td>0.196039</td>\n",
       "      <td>0.000888</td>\n",
       "    </tr>\n",
       "    <tr>\n",
       "      <th>2.0</th>\n",
       "      <td>0.080636</td>\n",
       "      <td>0.080639</td>\n",
       "      <td>0.080574</td>\n",
       "      <td>-0.076686</td>\n",
       "      <td>0.004056</td>\n",
       "    </tr>\n",
       "    <tr>\n",
       "      <th>3.0</th>\n",
       "      <td>0.021517</td>\n",
       "      <td>0.021513</td>\n",
       "      <td>0.021662</td>\n",
       "      <td>0.673770</td>\n",
       "      <td>-0.017849</td>\n",
       "    </tr>\n",
       "    <tr>\n",
       "      <th>4.0</th>\n",
       "      <td>0.313920</td>\n",
       "      <td>0.313916</td>\n",
       "      <td>0.312335</td>\n",
       "      <td>-0.504834</td>\n",
       "      <td>-0.001151</td>\n",
       "    </tr>\n",
       "    <tr>\n",
       "      <th>5.0</th>\n",
       "      <td>0.326563</td>\n",
       "      <td>0.326565</td>\n",
       "      <td>0.327561</td>\n",
       "      <td>0.305331</td>\n",
       "      <td>0.000581</td>\n",
       "    </tr>\n",
       "  </tbody>\n",
       "</table>\n",
       "</div>"
      ],
      "text/plain": [
       "      Overall  Stratified    Random  Rand. %error  Strat. %error\n",
       "1.0  0.257364    0.257366  0.257869      0.196039       0.000888\n",
       "2.0  0.080636    0.080639  0.080574     -0.076686       0.004056\n",
       "3.0  0.021517    0.021513  0.021662      0.673770      -0.017849\n",
       "4.0  0.313920    0.313916  0.312335     -0.504834      -0.001151\n",
       "5.0  0.326563    0.326565  0.327561      0.305331       0.000581"
      ]
     },
     "execution_count": 25,
     "metadata": {},
     "output_type": "execute_result"
    }
   ],
   "source": [
    "compare_props"
   ]
  },
  {
   "cell_type": "markdown",
   "metadata": {},
   "source": [
    "#### O conjunto de testes gerado com a amostragem estratificada tem proporções da categoria Product_Category_1 quase idênticas as do conjunto completo de dados. Já o conjunto de testes gerado com amostragem aleatória é um pouco distorcido."
   ]
  },
  {
   "cell_type": "code",
   "execution_count": 26,
   "metadata": {},
   "outputs": [],
   "source": [
    "#Removendo o atributo Product_Category_1 para que os dados voltem ao seu estado original\n",
    "for set_ in (strat_train_set, strat_test_set):\n",
    "    set_.drop(\"pc1_cat\", axis=1, inplace=True)"
   ]
  },
  {
   "cell_type": "code",
   "execution_count": 27,
   "metadata": {},
   "outputs": [],
   "source": [
    "#Criando uma cópia para treinar com ela sem prejudicar o conjunto de treinamento\n",
    "df = strat_train_set.copy()"
   ]
  },
  {
   "cell_type": "markdown",
   "metadata": {},
   "source": [
    "## Explorando os dados"
   ]
  },
  {
   "cell_type": "markdown",
   "metadata": {},
   "source": [
    "#### Bucando correlações"
   ]
  },
  {
   "cell_type": "code",
   "execution_count": 28,
   "metadata": {},
   "outputs": [
    {
     "data": {
      "text/plain": [
       "Purchase                      1.000000\n",
       "Product_Category_3            0.028896\n",
       "Occupation                    0.021536\n",
       "User_ID                       0.006270\n",
       "Stay_In_Current_City_Years    0.005260\n",
       "Marital_Status                0.001063\n",
       "Product_Category_2           -0.159813\n",
       "Product_Category_1           -0.314170\n",
       "Name: Purchase, dtype: float64"
      ]
     },
     "execution_count": 28,
     "metadata": {},
     "output_type": "execute_result"
    }
   ],
   "source": [
    "corr_matrix = df.corr()\n",
    "corr_matrix['Purchase'].sort_values(ascending=False)"
   ]
  },
  {
   "cell_type": "code",
   "execution_count": 29,
   "metadata": {},
   "outputs": [],
   "source": [
    "#Combinações de atributos\n",
    "df['occupation_pc1'] = df['Occupation']/df['Product_Category_1']\n",
    "df['occupation_pc3'] = df['Occupation']/df['Product_Category_3']\n",
    "df['marital_pc1'] = df['Marital_Status']/df['Product_Category_1']"
   ]
  },
  {
   "cell_type": "code",
   "execution_count": 30,
   "metadata": {},
   "outputs": [
    {
     "data": {
      "text/plain": [
       "Purchase                      1.000000\n",
       "occupation_pc1                0.343994\n",
       "marital_pc1                   0.249537\n",
       "occupation_pc3                0.044503\n",
       "Product_Category_3            0.028896\n",
       "Occupation                    0.021536\n",
       "User_ID                       0.006270\n",
       "Stay_In_Current_City_Years    0.005260\n",
       "Marital_Status                0.001063\n",
       "Product_Category_2           -0.159813\n",
       "Product_Category_1           -0.314170\n",
       "Name: Purchase, dtype: float64"
      ]
     },
     "execution_count": 30,
     "metadata": {},
     "output_type": "execute_result"
    }
   ],
   "source": [
    "corr_matrix = df.corr()\n",
    "corr_matrix['Purchase'].sort_values(ascending=False)"
   ]
  },
  {
   "cell_type": "markdown",
   "metadata": {},
   "source": [
    "#### Há algumas correlações interessantes entre Occupation e Product_Category_1 e 3 que poderiam ser exploradas, assim como Marital_Status e  Product_Category_1. Purchase também poderia ser explorada em comparação com as categorias de produto (1, 2 e 3) e também com a Occupation"
   ]
  },
  {
   "cell_type": "code",
   "execution_count": 31,
   "metadata": {},
   "outputs": [
    {
     "data": {
      "text/html": [
       "<div>\n",
       "<style scoped>\n",
       "    .dataframe tbody tr th:only-of-type {\n",
       "        vertical-align: middle;\n",
       "    }\n",
       "\n",
       "    .dataframe tbody tr th {\n",
       "        vertical-align: top;\n",
       "    }\n",
       "\n",
       "    .dataframe thead th {\n",
       "        text-align: right;\n",
       "    }\n",
       "</style>\n",
       "<table border=\"1\" class=\"dataframe\">\n",
       "  <thead>\n",
       "    <tr style=\"text-align: right;\">\n",
       "      <th></th>\n",
       "      <th>User_ID</th>\n",
       "      <th>Occupation</th>\n",
       "      <th>Stay_In_Current_City_Years</th>\n",
       "      <th>Marital_Status</th>\n",
       "      <th>Product_Category_1</th>\n",
       "      <th>Product_Category_2</th>\n",
       "      <th>Product_Category_3</th>\n",
       "      <th>Purchase</th>\n",
       "      <th>occupation_pc1</th>\n",
       "      <th>occupation_pc3</th>\n",
       "      <th>marital_pc1</th>\n",
       "    </tr>\n",
       "  </thead>\n",
       "  <tbody>\n",
       "    <tr>\n",
       "      <th>count</th>\n",
       "      <td>4.300610e+05</td>\n",
       "      <td>430061.000000</td>\n",
       "      <td>430061.000000</td>\n",
       "      <td>430061.000000</td>\n",
       "      <td>430061.000000</td>\n",
       "      <td>430061.000000</td>\n",
       "      <td>430061.000000</td>\n",
       "      <td>430061.000000</td>\n",
       "      <td>430061.000000</td>\n",
       "      <td>430061.000000</td>\n",
       "      <td>430061.000000</td>\n",
       "    </tr>\n",
       "    <tr>\n",
       "      <th>mean</th>\n",
       "      <td>1.002992e+06</td>\n",
       "      <td>8.084365</td>\n",
       "      <td>1.858757</td>\n",
       "      <td>0.408691</td>\n",
       "      <td>5.296463</td>\n",
       "      <td>9.583264</td>\n",
       "      <td>12.205501</td>\n",
       "      <td>9335.066730</td>\n",
       "      <td>3.231113</td>\n",
       "      <td>0.698990</td>\n",
       "      <td>0.158342</td>\n",
       "    </tr>\n",
       "    <tr>\n",
       "      <th>std</th>\n",
       "      <td>1.714880e+03</td>\n",
       "      <td>6.528041</td>\n",
       "      <td>1.289434</td>\n",
       "      <td>0.491593</td>\n",
       "      <td>3.752623</td>\n",
       "      <td>4.239932</td>\n",
       "      <td>2.301053</td>\n",
       "      <td>4981.501174</td>\n",
       "      <td>4.628210</td>\n",
       "      <td>0.631700</td>\n",
       "      <td>0.300851</td>\n",
       "    </tr>\n",
       "    <tr>\n",
       "      <th>min</th>\n",
       "      <td>1.000001e+06</td>\n",
       "      <td>0.000000</td>\n",
       "      <td>0.000000</td>\n",
       "      <td>0.000000</td>\n",
       "      <td>1.000000</td>\n",
       "      <td>2.000000</td>\n",
       "      <td>3.000000</td>\n",
       "      <td>185.000000</td>\n",
       "      <td>0.000000</td>\n",
       "      <td>0.000000</td>\n",
       "      <td>0.000000</td>\n",
       "    </tr>\n",
       "    <tr>\n",
       "      <th>25%</th>\n",
       "      <td>1.001496e+06</td>\n",
       "      <td>2.000000</td>\n",
       "      <td>1.000000</td>\n",
       "      <td>0.000000</td>\n",
       "      <td>1.000000</td>\n",
       "      <td>8.000000</td>\n",
       "      <td>12.000000</td>\n",
       "      <td>5867.000000</td>\n",
       "      <td>0.400000</td>\n",
       "      <td>0.166667</td>\n",
       "      <td>0.000000</td>\n",
       "    </tr>\n",
       "    <tr>\n",
       "      <th>50%</th>\n",
       "      <td>1.003031e+06</td>\n",
       "      <td>7.000000</td>\n",
       "      <td>2.000000</td>\n",
       "      <td>0.000000</td>\n",
       "      <td>5.000000</td>\n",
       "      <td>9.000000</td>\n",
       "      <td>12.000000</td>\n",
       "      <td>8061.000000</td>\n",
       "      <td>1.400000</td>\n",
       "      <td>0.583333</td>\n",
       "      <td>0.000000</td>\n",
       "    </tr>\n",
       "    <tr>\n",
       "      <th>75%</th>\n",
       "      <td>1.004418e+06</td>\n",
       "      <td>14.000000</td>\n",
       "      <td>3.000000</td>\n",
       "      <td>1.000000</td>\n",
       "      <td>8.000000</td>\n",
       "      <td>14.000000</td>\n",
       "      <td>12.000000</td>\n",
       "      <td>12074.000000</td>\n",
       "      <td>3.500000</td>\n",
       "      <td>1.166667</td>\n",
       "      <td>0.200000</td>\n",
       "    </tr>\n",
       "    <tr>\n",
       "      <th>max</th>\n",
       "      <td>1.006040e+06</td>\n",
       "      <td>20.000000</td>\n",
       "      <td>4.000000</td>\n",
       "      <td>1.000000</td>\n",
       "      <td>18.000000</td>\n",
       "      <td>18.000000</td>\n",
       "      <td>18.000000</td>\n",
       "      <td>23961.000000</td>\n",
       "      <td>20.000000</td>\n",
       "      <td>6.666667</td>\n",
       "      <td>1.000000</td>\n",
       "    </tr>\n",
       "  </tbody>\n",
       "</table>\n",
       "</div>"
      ],
      "text/plain": [
       "            User_ID     Occupation  Stay_In_Current_City_Years  \\\n",
       "count  4.300610e+05  430061.000000               430061.000000   \n",
       "mean   1.002992e+06       8.084365                    1.858757   \n",
       "std    1.714880e+03       6.528041                    1.289434   \n",
       "min    1.000001e+06       0.000000                    0.000000   \n",
       "25%    1.001496e+06       2.000000                    1.000000   \n",
       "50%    1.003031e+06       7.000000                    2.000000   \n",
       "75%    1.004418e+06      14.000000                    3.000000   \n",
       "max    1.006040e+06      20.000000                    4.000000   \n",
       "\n",
       "       Marital_Status  Product_Category_1  Product_Category_2  \\\n",
       "count   430061.000000       430061.000000       430061.000000   \n",
       "mean         0.408691            5.296463            9.583264   \n",
       "std          0.491593            3.752623            4.239932   \n",
       "min          0.000000            1.000000            2.000000   \n",
       "25%          0.000000            1.000000            8.000000   \n",
       "50%          0.000000            5.000000            9.000000   \n",
       "75%          1.000000            8.000000           14.000000   \n",
       "max          1.000000           18.000000           18.000000   \n",
       "\n",
       "       Product_Category_3       Purchase  occupation_pc1  occupation_pc3  \\\n",
       "count       430061.000000  430061.000000   430061.000000   430061.000000   \n",
       "mean            12.205501    9335.066730        3.231113        0.698990   \n",
       "std              2.301053    4981.501174        4.628210        0.631700   \n",
       "min              3.000000     185.000000        0.000000        0.000000   \n",
       "25%             12.000000    5867.000000        0.400000        0.166667   \n",
       "50%             12.000000    8061.000000        1.400000        0.583333   \n",
       "75%             12.000000   12074.000000        3.500000        1.166667   \n",
       "max             18.000000   23961.000000       20.000000        6.666667   \n",
       "\n",
       "         marital_pc1  \n",
       "count  430061.000000  \n",
       "mean        0.158342  \n",
       "std         0.300851  \n",
       "min         0.000000  \n",
       "25%         0.000000  \n",
       "50%         0.000000  \n",
       "75%         0.200000  \n",
       "max         1.000000  "
      ]
     },
     "execution_count": 31,
     "metadata": {},
     "output_type": "execute_result"
    }
   ],
   "source": [
    "df.describe()"
   ]
  },
  {
   "cell_type": "markdown",
   "metadata": {},
   "source": [
    "# Explorando algumas hipóteses"
   ]
  },
  {
   "cell_type": "markdown",
   "metadata": {},
   "source": [
    "## 1 - Qual o público que mais consome durante a Black Friday?\n",
    "\n",
    "#### O principal público consumidor na Black Friday são as pessoas 26 a 35 anos de idade."
   ]
  },
  {
   "cell_type": "code",
   "execution_count": 32,
   "metadata": {},
   "outputs": [
    {
     "data": {
      "image/png": "[encoded data removed]",
      "text/plain": [
       "<Figure size 576x576 with 1 Axes>"
      ]
     },
     "metadata": {
      "needs_background": "light"
     },
     "output_type": "display_data"
    }
   ],
   "source": [
    "index = df['Age'].value_counts().index #Ordenar as colunas do maior para o menor\n",
    "sns.catplot(x='Age', kind=\"count\",palette=\"Set2\", size = 8,order = index, data=df)\n",
    "plt.xlabel('Idade', fontsize=13)\n",
    "plt.ylabel('Número de consumidores')\n",
    "plt.title('Consumo por público',fontsize=21);"
   ]
  },
  {
   "cell_type": "markdown",
   "metadata": {},
   "source": [
    "## 2 - Os casados consomem mais na Black Friday em relação aos não-casados.\n",
    "#### Falso. Os não-casados consomem mais produtos da Black Friday em relação aos casados."
   ]
  },
  {
   "cell_type": "code",
   "execution_count": 130,
   "metadata": {},
   "outputs": [
    {
     "data": {
      "text/plain": [
       "<Figure size 864x360 with 0 Axes>"
      ]
     },
     "metadata": {},
     "output_type": "display_data"
    },
    {
     "data": {
      "image/png": "[encoded data removed]",
      "text/plain": [
       "<Figure size 504x504 with 1 Axes>"
      ]
     },
     "metadata": {},
     "output_type": "display_data"
    }
   ],
   "source": [
    "plt.figure(figsize=(12,5))\n",
    "ms = df['Marital_Status'].value_counts()\n",
    "plt.figure(figsize=(7,7))\n",
    "plt.pie(ms, labels=['Não casado', 'Casado'], autopct='%1.1f%%', shadow=True);"
   ]
  },
  {
   "cell_type": "markdown",
   "metadata": {},
   "source": [
    "## 3 - Quem gasta mais em média na Black Friday, homens ou mulheres?\n",
    "#### No dataset, os homens gastam mais que as mulheres, em média, na Black Friday."
   ]
  },
  {
   "cell_type": "code",
   "execution_count": 34,
   "metadata": {},
   "outputs": [
    {
     "data": {
      "image/png": "[encoded data removed]",
      "text/plain": [
       "<Figure size 864x360 with 1 Axes>"
      ]
     },
     "metadata": {
      "needs_background": "light"
     },
     "output_type": "display_data"
    }
   ],
   "source": [
    "plt.figure(figsize=(12,5))\n",
    "df[['Gender','Purchase']].groupby('Gender').mean().reset_index()\n",
    "sns.barplot(x='Gender', y='Purchase',data=df);"
   ]
  },
  {
   "cell_type": "markdown",
   "metadata": {},
   "source": [
    "## 4 - Média dos compradores na Black Friday por gênero\n",
    "\n",
    "#### Os que mais consomem são homens entre 26-35 anos. Os menores de idade (0-17 anos) são os que menos consomem na Black Friday."
   ]
  },
  {
   "cell_type": "code",
   "execution_count": 35,
   "metadata": {},
   "outputs": [
    {
     "data": {
      "image/png": "[encoded data removed]",
      "text/plain": [
       "<Figure size 864x360 with 1 Axes>"
      ]
     },
     "metadata": {
      "needs_background": "light"
     },
     "output_type": "display_data"
    }
   ],
   "source": [
    "plt.figure(figsize=(12,5))\n",
    "sns.countplot(df['Age'],hue=df['Gender'])\n",
    "plt.show();"
   ]
  },
  {
   "cell_type": "markdown",
   "metadata": {},
   "source": [
    "## 5 - Homens de cidades de categoria A são os que mais consomem na Black Friday?\n",
    "\n",
    "#### Falso. Homens de cidades de categoria B são os que mais aparecem no dataset. Mulheres de cidades de categoria A são as que menos aparecem."
   ]
  },
  {
   "cell_type": "code",
   "execution_count": 36,
   "metadata": {},
   "outputs": [
    {
     "data": {
      "image/png": "[encoded data removed]",
      "text/plain": [
       "<Figure size 1080x360 with 1 Axes>"
      ]
     },
     "metadata": {
      "needs_background": "light"
     },
     "output_type": "display_data"
    }
   ],
   "source": [
    "df[['City_Category','Gender']].value_counts().sort_values(ascending=False).plot.bar(stacked=True, figsize=(15,5))\n",
    "plt.xticks(rotation = 0);"
   ]
  },
  {
   "cell_type": "markdown",
   "metadata": {},
   "source": [
    "## 6 - Média de preços de Product_Category_1\n",
    "\n",
    "#### Este atributo tem forte correlação com Purchase"
   ]
  },
  {
   "cell_type": "code",
   "execution_count": 37,
   "metadata": {},
   "outputs": [
    {
     "data": {
      "image/png": "[encoded data removed]",
      "text/plain": [
       "<Figure size 1080x360 with 1 Axes>"
      ]
     },
     "metadata": {
      "needs_background": "light"
     },
     "output_type": "display_data"
    }
   ],
   "source": [
    "plt.figure(figsize=(15,5))\n",
    "\n",
    "sns.barplot(x='Product_Category_1', y='Purchase',data=df)\n",
    "\n",
    "plt.show();"
   ]
  },
  {
   "cell_type": "markdown",
   "metadata": {},
   "source": [
    "## 7 - Presença de produtos consumidos por categoria no dataset"
   ]
  },
  {
   "cell_type": "code",
   "execution_count": 38,
   "metadata": {},
   "outputs": [
    {
     "data": {
      "image/png": "[encoded data removed]",
      "text/plain": [
       "<Figure size 1080x1800 with 3 Axes>"
      ]
     },
     "metadata": {
      "needs_background": "light"
     },
     "output_type": "display_data"
    }
   ],
   "source": [
    "plt.figure(figsize=(15,25))\n",
    "\n",
    "prod_cat1 = df.groupby('Product_Category_1')['Product_ID'].nunique()\n",
    "prod_cat2 = df.groupby('Product_Category_2')['Product_ID'].nunique()\n",
    "prod_cat3 = df.groupby('Product_Category_3')['Product_ID'].nunique()\n",
    "\n",
    "plt.subplot(4, 1, 1)\n",
    "sns.barplot(x=prod_cat1.index,y=prod_cat1.values)\n",
    "plt.title('Product Category 1')\n",
    "\n",
    "plt.subplot(4, 1, 2)\n",
    "sns.barplot(x=prod_cat2.index,y=prod_cat2.values)\n",
    "plt.title('Product Category 2')\n",
    "\n",
    "plt.subplot(4, 1, 3)\n",
    "sns.barplot(x=prod_cat3.index,y=prod_cat3.values)\n",
    "plt.title('Product Category 3')\n",
    "\n",
    "\n",
    "plt.show()"
   ]
  },
  {
   "cell_type": "markdown",
   "metadata": {},
   "source": [
    "## Prepare the data for Machine Learning algorithms"
   ]
  },
  {
   "cell_type": "code",
   "execution_count": 39,
   "metadata": {},
   "outputs": [],
   "source": [
    "#Reverter para um conjunto de treinamento limpo e criar uma cópia de dados\n",
    "\n",
    "df = strat_train_set.drop(\"Purchase\", axis=1) # drop labels for training set\n",
    "df_labels = strat_train_set[\"Purchase\"].copy()"
   ]
  },
  {
   "cell_type": "code",
   "execution_count": 40,
   "metadata": {},
   "outputs": [],
   "source": [
    "from sklearn.impute import SimpleImputer\n",
    "imputer = SimpleImputer(strategy=\"median\")"
   ]
  },
  {
   "cell_type": "code",
   "execution_count": 41,
   "metadata": {},
   "outputs": [],
   "source": [
    "df_num = df.drop(['User_ID','Product_ID','Age','Gender','City_Category'], axis=1)"
   ]
  },
  {
   "cell_type": "code",
   "execution_count": 42,
   "metadata": {},
   "outputs": [
    {
     "data": {
      "text/plain": [
       "SimpleImputer(strategy='median')"
      ]
     },
     "execution_count": 42,
     "metadata": {},
     "output_type": "execute_result"
    }
   ],
   "source": [
    "imputer.fit(df_num)"
   ]
  },
  {
   "cell_type": "code",
   "execution_count": 43,
   "metadata": {},
   "outputs": [
    {
     "data": {
      "text/plain": [
       "array([ 7.,  2.,  0.,  5.,  9., 12.])"
      ]
     },
     "execution_count": 43,
     "metadata": {},
     "output_type": "execute_result"
    }
   ],
   "source": [
    "imputer.statistics_"
   ]
  },
  {
   "cell_type": "code",
   "execution_count": 44,
   "metadata": {},
   "outputs": [],
   "source": [
    "#Transformando o conjunto de treinamento:\n",
    "X = imputer.transform(df_num)"
   ]
  },
  {
   "cell_type": "markdown",
   "metadata": {},
   "source": [
    "### Manipulando textos e atributos categóricos\n",
    "\n",
    "#### Aqui, serão manipulados os atributos 'Gender' e 'City_Category'"
   ]
  },
  {
   "cell_type": "code",
   "execution_count": 45,
   "metadata": {},
   "outputs": [
    {
     "data": {
      "text/html": [
       "<div>\n",
       "<style scoped>\n",
       "    .dataframe tbody tr th:only-of-type {\n",
       "        vertical-align: middle;\n",
       "    }\n",
       "\n",
       "    .dataframe tbody tr th {\n",
       "        vertical-align: top;\n",
       "    }\n",
       "\n",
       "    .dataframe thead th {\n",
       "        text-align: right;\n",
       "    }\n",
       "</style>\n",
       "<table border=\"1\" class=\"dataframe\">\n",
       "  <thead>\n",
       "    <tr style=\"text-align: right;\">\n",
       "      <th></th>\n",
       "      <th>Gender</th>\n",
       "      <th>City_Category</th>\n",
       "    </tr>\n",
       "  </thead>\n",
       "  <tbody>\n",
       "    <tr>\n",
       "      <th>401558</th>\n",
       "      <td>F</td>\n",
       "      <td>B</td>\n",
       "    </tr>\n",
       "    <tr>\n",
       "      <th>227040</th>\n",
       "      <td>M</td>\n",
       "      <td>A</td>\n",
       "    </tr>\n",
       "    <tr>\n",
       "      <th>36849</th>\n",
       "      <td>M</td>\n",
       "      <td>C</td>\n",
       "    </tr>\n",
       "    <tr>\n",
       "      <th>185018</th>\n",
       "      <td>M</td>\n",
       "      <td>A</td>\n",
       "    </tr>\n",
       "    <tr>\n",
       "      <th>439479</th>\n",
       "      <td>M</td>\n",
       "      <td>B</td>\n",
       "    </tr>\n",
       "    <tr>\n",
       "      <th>470623</th>\n",
       "      <td>F</td>\n",
       "      <td>A</td>\n",
       "    </tr>\n",
       "    <tr>\n",
       "      <th>274606</th>\n",
       "      <td>M</td>\n",
       "      <td>A</td>\n",
       "    </tr>\n",
       "    <tr>\n",
       "      <th>273361</th>\n",
       "      <td>M</td>\n",
       "      <td>C</td>\n",
       "    </tr>\n",
       "    <tr>\n",
       "      <th>221455</th>\n",
       "      <td>M</td>\n",
       "      <td>C</td>\n",
       "    </tr>\n",
       "    <tr>\n",
       "      <th>516503</th>\n",
       "      <td>M</td>\n",
       "      <td>A</td>\n",
       "    </tr>\n",
       "  </tbody>\n",
       "</table>\n",
       "</div>"
      ],
      "text/plain": [
       "       Gender City_Category\n",
       "401558      F             B\n",
       "227040      M             A\n",
       "36849       M             C\n",
       "185018      M             A\n",
       "439479      M             B\n",
       "470623      F             A\n",
       "274606      M             A\n",
       "273361      M             C\n",
       "221455      M             C\n",
       "516503      M             A"
      ]
     },
     "execution_count": 45,
     "metadata": {},
     "output_type": "execute_result"
    }
   ],
   "source": [
    "df_cat = df[['Gender','City_Category']]\n",
    "df_cat.head(10)"
   ]
  },
  {
   "cell_type": "code",
   "execution_count": 46,
   "metadata": {},
   "outputs": [],
   "source": [
    "from sklearn.preprocessing import OrdinalEncoder"
   ]
  },
  {
   "cell_type": "markdown",
   "metadata": {},
   "source": [
    "* O que será feito? A maioria dos algoritmos de ML prefere trabalhar com números, então essas categorias serão convertidas de texto para números, utilizando o método OrdinalEncoder().\n",
    "\n",
    "* No atributo Gender, M poderá ser 0 e F poderá ser 1. No atributo City_Category, A poderá ser 0, B poderá ser 1, e assim por diante."
   ]
  },
  {
   "cell_type": "code",
   "execution_count": 47,
   "metadata": {},
   "outputs": [
    {
     "data": {
      "text/plain": [
       "array([[0., 1.],\n",
       "       [1., 0.],\n",
       "       [1., 2.],\n",
       "       [1., 0.],\n",
       "       [1., 1.],\n",
       "       [0., 0.],\n",
       "       [1., 0.],\n",
       "       [1., 2.],\n",
       "       [1., 2.],\n",
       "       [1., 0.]])"
      ]
     },
     "execution_count": 47,
     "metadata": {},
     "output_type": "execute_result"
    }
   ],
   "source": [
    "ordinal_encoder = OrdinalEncoder()\n",
    "df_cat_encoded = ordinal_encoder.fit_transform(df_cat)\n",
    "df_cat_encoded[:10]"
   ]
  },
  {
   "cell_type": "code",
   "execution_count": 48,
   "metadata": {},
   "outputs": [
    {
     "data": {
      "text/plain": [
       "[array(['F', 'M'], dtype=object), array(['A', 'B', 'C'], dtype=object)]"
      ]
     },
     "execution_count": 48,
     "metadata": {},
     "output_type": "execute_result"
    }
   ],
   "source": [
    "ordinal_encoder.categories_"
   ]
  },
  {
   "cell_type": "code",
   "execution_count": 49,
   "metadata": {},
   "outputs": [],
   "source": [
    "from sklearn.preprocessing import OneHotEncoder"
   ]
  },
  {
   "cell_type": "code",
   "execution_count": 50,
   "metadata": {},
   "outputs": [
    {
     "data": {
      "text/plain": [
       "<430061x5 sparse matrix of type '<class 'numpy.float64'>'\n",
       "\twith 860122 stored elements in Compressed Sparse Row format>"
      ]
     },
     "execution_count": 50,
     "metadata": {},
     "output_type": "execute_result"
    }
   ],
   "source": [
    "cat_encoder = OneHotEncoder()\n",
    "df_cat_1hot = cat_encoder.fit_transform(df_cat)\n",
    "df_cat_1hot"
   ]
  },
  {
   "cell_type": "code",
   "execution_count": 51,
   "metadata": {},
   "outputs": [
    {
     "data": {
      "text/plain": [
       "array([[1., 0., 0., 1., 0.],\n",
       "       [0., 1., 1., 0., 0.],\n",
       "       [0., 1., 0., 0., 1.],\n",
       "       ...,\n",
       "       [0., 1., 0., 0., 1.],\n",
       "       [0., 1., 1., 0., 0.],\n",
       "       [0., 1., 1., 0., 0.]])"
      ]
     },
     "execution_count": 51,
     "metadata": {},
     "output_type": "execute_result"
    }
   ],
   "source": [
    "df_cat_1hot.toarray()"
   ]
  },
  {
   "cell_type": "code",
   "execution_count": 52,
   "metadata": {},
   "outputs": [
    {
     "data": {
      "text/plain": [
       "[array(['F', 'M'], dtype=object), array(['A', 'B', 'C'], dtype=object)]"
      ]
     },
     "execution_count": 52,
     "metadata": {},
     "output_type": "execute_result"
    }
   ],
   "source": [
    "cat_encoder.categories_"
   ]
  },
  {
   "cell_type": "code",
   "execution_count": 53,
   "metadata": {},
   "outputs": [
    {
     "data": {
      "text/plain": [
       "Index(['User_ID', 'Product_ID', 'Gender', 'Age', 'Occupation', 'City_Category',\n",
       "       'Stay_In_Current_City_Years', 'Marital_Status', 'Product_Category_1',\n",
       "       'Product_Category_2', 'Product_Category_3'],\n",
       "      dtype='object')"
      ]
     },
     "execution_count": 53,
     "metadata": {},
     "output_type": "execute_result"
    }
   ],
   "source": [
    "df.columns"
   ]
  },
  {
   "cell_type": "markdown",
   "metadata": {},
   "source": [
    "### Customizando Transformadores"
   ]
  },
  {
   "cell_type": "code",
   "execution_count": 54,
   "metadata": {},
   "outputs": [],
   "source": [
    "from sklearn.base import BaseEstimator, TransformerMixin"
   ]
  },
  {
   "cell_type": "code",
   "execution_count": 55,
   "metadata": {},
   "outputs": [],
   "source": [
    "# get the right column indices: safer than hard-coding indices 3, 4, 5, 6\n",
    "occupation_ix, city_years_ix, marital_ix, pc1_ix, pc2_ix, pc3_ix  = [\n",
    "    list(df.columns).index(col)\n",
    "    for col in (\"Occupation\", \"Stay_In_Current_City_Years\", \"Marital_Status\", \"Product_Category_1\", \n",
    "                \"Product_Category_2\", \"Product_Category_3\")]\n",
    "\n",
    "class CombinedAttributesAdder(BaseEstimator, TransformerMixin):\n",
    "    def __init__(self, add_city_years_per_pc1 = True): # no *args or **kwargs\n",
    "        self.add_city_years_per_pc1 = add_city_years_per_pc1\n",
    "    def fit(self, X, y=None):\n",
    "        return self  # nothing else to do\n",
    "    def transform(self, X, y=None):\n",
    "        marital_per_pc1_ix = X[:, marital_ix] / X[:, pc1_ix]\n",
    "        occupation_per_pc1_ix = X[:, occupation_ix] / X[:, pc1_ix]\n",
    "        if self.add_city_years_per_pc1:\n",
    "            city_years_per_pc1 = X[:, city_years_ix] / X[:, pc1_ix]\n",
    "            return np.c_[X, marital_per_pc1_ix, occupation_per_pc1_ix,\n",
    "                         city_years_per_pc1]\n",
    "        else:\n",
    "            return np.c_[X, marital_per_pc1_ix, occupation_per_pc1_ix]\n",
    "\n",
    "attr_adder = CombinedAttributesAdder(add_city_years_per_pc1=False)\n",
    "df_extra_attribs = attr_adder.transform(df.values)"
   ]
  },
  {
   "cell_type": "code",
   "execution_count": 56,
   "metadata": {},
   "outputs": [],
   "source": [
    "from sklearn.preprocessing import FunctionTransformer\n",
    "\n",
    "def add_extra_features(X, add_city_years_per_pc1 = True):\n",
    "    marital_per_pc1_ix = X[:, marital_ix] / X[:, pc1_ix]\n",
    "    occupation_per_pc1_ix = X[:, occupation_ix] / X[:, pc1_ix]\n",
    "    if add_city_years_per_pc1:\n",
    "        city_years_per_pc1 = X[:, city_years_ix] / X[:, pc1_ix]\n",
    "        return np.c_[X, marital_per_pc1_ix, occupation_per_pc1_ix, city_years_per_pc1]\n",
    "    else:\n",
    "            return np.c_[X, marital_per_pc1_ix, occupation_per_pc1_ix]\n",
    "\n",
    "attr_adder = FunctionTransformer(add_extra_features, validate=False,\n",
    "                                 kw_args={\"add_city_years_per_pc1\": False})\n",
    "\n",
    "df_extra_attribs = attr_adder.fit_transform(df.values)"
   ]
  },
  {
   "cell_type": "code",
   "execution_count": 57,
   "metadata": {},
   "outputs": [
    {
     "data": {
      "text/html": [
       "<div>\n",
       "<style scoped>\n",
       "    .dataframe tbody tr th:only-of-type {\n",
       "        vertical-align: middle;\n",
       "    }\n",
       "\n",
       "    .dataframe tbody tr th {\n",
       "        vertical-align: top;\n",
       "    }\n",
       "\n",
       "    .dataframe thead th {\n",
       "        text-align: right;\n",
       "    }\n",
       "</style>\n",
       "<table border=\"1\" class=\"dataframe\">\n",
       "  <thead>\n",
       "    <tr style=\"text-align: right;\">\n",
       "      <th></th>\n",
       "      <th>User_ID</th>\n",
       "      <th>Product_ID</th>\n",
       "      <th>Gender</th>\n",
       "      <th>Age</th>\n",
       "      <th>Occupation</th>\n",
       "      <th>City_Category</th>\n",
       "      <th>Stay_In_Current_City_Years</th>\n",
       "      <th>Marital_Status</th>\n",
       "      <th>Product_Category_1</th>\n",
       "      <th>Product_Category_2</th>\n",
       "      <th>Product_Category_3</th>\n",
       "      <th>marital_per_pc1_ix</th>\n",
       "      <th>occupation_per_pc1_ix</th>\n",
       "    </tr>\n",
       "  </thead>\n",
       "  <tbody>\n",
       "    <tr>\n",
       "      <th>401558</th>\n",
       "      <td>1001756</td>\n",
       "      <td>P00224142</td>\n",
       "      <td>F</td>\n",
       "      <td>26-35</td>\n",
       "      <td>1</td>\n",
       "      <td>B</td>\n",
       "      <td>2</td>\n",
       "      <td>1</td>\n",
       "      <td>8</td>\n",
       "      <td>9.0</td>\n",
       "      <td>12.0</td>\n",
       "      <td>0.125</td>\n",
       "      <td>0.125</td>\n",
       "    </tr>\n",
       "    <tr>\n",
       "      <th>227040</th>\n",
       "      <td>1004984</td>\n",
       "      <td>P00303742</td>\n",
       "      <td>M</td>\n",
       "      <td>36-45</td>\n",
       "      <td>0</td>\n",
       "      <td>A</td>\n",
       "      <td>1</td>\n",
       "      <td>1</td>\n",
       "      <td>8</td>\n",
       "      <td>9.0</td>\n",
       "      <td>12.0</td>\n",
       "      <td>0.125</td>\n",
       "      <td>0.0</td>\n",
       "    </tr>\n",
       "    <tr>\n",
       "      <th>36849</th>\n",
       "      <td>1005676</td>\n",
       "      <td>P00015142</td>\n",
       "      <td>M</td>\n",
       "      <td>26-35</td>\n",
       "      <td>20</td>\n",
       "      <td>C</td>\n",
       "      <td>0</td>\n",
       "      <td>0</td>\n",
       "      <td>5</td>\n",
       "      <td>9.0</td>\n",
       "      <td>12.0</td>\n",
       "      <td>0.0</td>\n",
       "      <td>4.0</td>\n",
       "    </tr>\n",
       "    <tr>\n",
       "      <th>185018</th>\n",
       "      <td>1004510</td>\n",
       "      <td>P00114342</td>\n",
       "      <td>M</td>\n",
       "      <td>46-50</td>\n",
       "      <td>7</td>\n",
       "      <td>A</td>\n",
       "      <td>4</td>\n",
       "      <td>1</td>\n",
       "      <td>1</td>\n",
       "      <td>8.0</td>\n",
       "      <td>17.0</td>\n",
       "      <td>1.0</td>\n",
       "      <td>7.0</td>\n",
       "    </tr>\n",
       "    <tr>\n",
       "      <th>439479</th>\n",
       "      <td>1001639</td>\n",
       "      <td>P00015542</td>\n",
       "      <td>M</td>\n",
       "      <td>26-35</td>\n",
       "      <td>17</td>\n",
       "      <td>B</td>\n",
       "      <td>1</td>\n",
       "      <td>0</td>\n",
       "      <td>1</td>\n",
       "      <td>2.0</td>\n",
       "      <td>13.0</td>\n",
       "      <td>0.0</td>\n",
       "      <td>17.0</td>\n",
       "    </tr>\n",
       "  </tbody>\n",
       "</table>\n",
       "</div>"
      ],
      "text/plain": [
       "        User_ID Product_ID Gender    Age Occupation City_Category  \\\n",
       "401558  1001756  P00224142      F  26-35          1             B   \n",
       "227040  1004984  P00303742      M  36-45          0             A   \n",
       "36849   1005676  P00015142      M  26-35         20             C   \n",
       "185018  1004510  P00114342      M  46-50          7             A   \n",
       "439479  1001639  P00015542      M  26-35         17             B   \n",
       "\n",
       "       Stay_In_Current_City_Years Marital_Status Product_Category_1  \\\n",
       "401558                          2              1                  8   \n",
       "227040                          1              1                  8   \n",
       "36849                           0              0                  5   \n",
       "185018                          4              1                  1   \n",
       "439479                          1              0                  1   \n",
       "\n",
       "       Product_Category_2 Product_Category_3 marital_per_pc1_ix  \\\n",
       "401558                9.0               12.0              0.125   \n",
       "227040                9.0               12.0              0.125   \n",
       "36849                 9.0               12.0                0.0   \n",
       "185018                8.0               17.0                1.0   \n",
       "439479                2.0               13.0                0.0   \n",
       "\n",
       "       occupation_per_pc1_ix  \n",
       "401558                 0.125  \n",
       "227040                   0.0  \n",
       "36849                    4.0  \n",
       "185018                   7.0  \n",
       "439479                  17.0  "
      ]
     },
     "execution_count": 57,
     "metadata": {},
     "output_type": "execute_result"
    }
   ],
   "source": [
    "df_extra_attribs = pd.DataFrame(\n",
    "    df_extra_attribs,\n",
    "    columns=list(df.columns)+[\"marital_per_pc1_ix\", \"occupation_per_pc1_ix\"],\n",
    "    index=df.index)\n",
    "df_extra_attribs.head()"
   ]
  },
  {
   "cell_type": "markdown",
   "metadata": {},
   "source": [
    "### Pipelines de Transformação"
   ]
  },
  {
   "cell_type": "markdown",
   "metadata": {},
   "source": [
    "* Será construído um pipeline para pré-processar os atributos numéricos."
   ]
  },
  {
   "cell_type": "code",
   "execution_count": 58,
   "metadata": {},
   "outputs": [],
   "source": [
    "from sklearn.pipeline import Pipeline\n",
    "from sklearn.preprocessing import StandardScaler"
   ]
  },
  {
   "cell_type": "code",
   "execution_count": 59,
   "metadata": {},
   "outputs": [],
   "source": [
    "num_pipeline = Pipeline([\n",
    "        ('imputer', SimpleImputer(strategy=\"median\")),\n",
    "        ('attribs_adder', FunctionTransformer()),\n",
    "        ('std_scaler', StandardScaler()),\n",
    "    ])"
   ]
  },
  {
   "cell_type": "code",
   "execution_count": 60,
   "metadata": {},
   "outputs": [],
   "source": [
    "df_num_tr = num_pipeline.fit_transform(df_num)"
   ]
  },
  {
   "cell_type": "code",
   "execution_count": 61,
   "metadata": {},
   "outputs": [
    {
     "data": {
      "text/plain": [
       "array([[-1.08522187,  0.10953866,  1.20284546,  0.72044017, -0.13756457,\n",
       "        -0.08930753],\n",
       "       [-1.23840735, -0.66599604,  1.20284546,  0.72044017, -0.13756457,\n",
       "        -0.08930753],\n",
       "       [ 1.82530238, -1.44153073, -0.83136199, -0.07900152, -0.13756457,\n",
       "        -0.08930753],\n",
       "       ...,\n",
       "       [ 1.21256044, -1.44153073,  1.20284546, -1.14492377, -0.37341766,\n",
       "         0.3452767 ],\n",
       "       [-1.08522187,  1.66060804,  1.20284546,  0.72044017, -0.13756457,\n",
       "        -0.08930753],\n",
       "       [ 1.82530238,  1.66060804,  1.20284546, -0.07900152,  1.27755402,\n",
       "        -0.08930753]])"
      ]
     },
     "execution_count": 61,
     "metadata": {},
     "output_type": "execute_result"
    }
   ],
   "source": [
    "df_num_tr"
   ]
  },
  {
   "cell_type": "code",
   "execution_count": 62,
   "metadata": {},
   "outputs": [],
   "source": [
    "from sklearn.compose import ColumnTransformer"
   ]
  },
  {
   "cell_type": "code",
   "execution_count": 63,
   "metadata": {},
   "outputs": [],
   "source": [
    "num_attribs = list(df_num)\n",
    "cat_attribs = ['Gender','City_Category']\n",
    "\n",
    "full_pipeline = ColumnTransformer([\n",
    "        (\"num\", num_pipeline, num_attribs),\n",
    "        (\"cat\", OneHotEncoder(), cat_attribs),\n",
    "    ])\n",
    "\n",
    "df_prepared = full_pipeline.fit_transform(df)"
   ]
  },
  {
   "cell_type": "code",
   "execution_count": 64,
   "metadata": {},
   "outputs": [
    {
     "data": {
      "text/plain": [
       "array([[-1.08522187,  0.10953866,  1.20284546, ...,  0.        ,\n",
       "         1.        ,  0.        ],\n",
       "       [-1.23840735, -0.66599604,  1.20284546, ...,  1.        ,\n",
       "         0.        ,  0.        ],\n",
       "       [ 1.82530238, -1.44153073, -0.83136199, ...,  0.        ,\n",
       "         0.        ,  1.        ],\n",
       "       ...,\n",
       "       [ 1.21256044, -1.44153073,  1.20284546, ...,  0.        ,\n",
       "         0.        ,  1.        ],\n",
       "       [-1.08522187,  1.66060804,  1.20284546, ...,  1.        ,\n",
       "         0.        ,  0.        ],\n",
       "       [ 1.82530238,  1.66060804,  1.20284546, ...,  1.        ,\n",
       "         0.        ,  0.        ]])"
      ]
     },
     "execution_count": 64,
     "metadata": {},
     "output_type": "execute_result"
    }
   ],
   "source": [
    "df_prepared"
   ]
  },
  {
   "cell_type": "code",
   "execution_count": 65,
   "metadata": {},
   "outputs": [
    {
     "data": {
      "text/plain": [
       "(430061, 11)"
      ]
     },
     "execution_count": 65,
     "metadata": {},
     "output_type": "execute_result"
    }
   ],
   "source": [
    "df_prepared.shape"
   ]
  },
  {
   "cell_type": "markdown",
   "metadata": {},
   "source": [
    "* Fornecendo um nosso pipeline um DataFrame Pandas que contenha colunas não numéricas em vez de extraí-las manualmente em um array NumPy."
   ]
  },
  {
   "cell_type": "code",
   "execution_count": 66,
   "metadata": {},
   "outputs": [],
   "source": [
    "from sklearn.base import BaseEstimator, TransformerMixin\n",
    "\n",
    "# Create a class to select numerical or categorical columns \n",
    "class OldDataFrameSelector(BaseEstimator, TransformerMixin):\n",
    "    def __init__(self, attribute_names):\n",
    "        self.attribute_names = attribute_names\n",
    "    def fit(self, X, y=None):\n",
    "        return self\n",
    "    def transform(self, X):\n",
    "        return X[self.attribute_names].values"
   ]
  },
  {
   "cell_type": "markdown",
   "metadata": {},
   "source": [
    "* Juntando todos esses componentes em um grande pipeline que irá pré-processar os recursos numéricos e categóricos."
   ]
  },
  {
   "cell_type": "code",
   "execution_count": 67,
   "metadata": {},
   "outputs": [],
   "source": [
    "num_attribs = list(df_num)\n",
    "cat_attribs = ['Gender','City_Category']\n",
    "\n",
    "old_num_pipeline = Pipeline([\n",
    "        ('selector', OldDataFrameSelector(num_attribs)),\n",
    "        ('imputer', SimpleImputer(strategy=\"median\")),\n",
    "        ('attribs_adder', FunctionTransformer()),\n",
    "        ('std_scaler', StandardScaler()),\n",
    "    ])\n",
    "\n",
    "old_cat_pipeline = Pipeline([\n",
    "        ('selector', OldDataFrameSelector(cat_attribs)),\n",
    "        ('cat_encoder', OneHotEncoder(sparse=False)),\n",
    "    ])"
   ]
  },
  {
   "cell_type": "code",
   "execution_count": 68,
   "metadata": {},
   "outputs": [],
   "source": [
    "from sklearn.pipeline import FeatureUnion\n",
    "\n",
    "old_full_pipeline = FeatureUnion(transformer_list=[\n",
    "        (\"num_pipeline\", old_num_pipeline),\n",
    "        (\"cat_pipeline\", old_cat_pipeline),\n",
    "    ])"
   ]
  },
  {
   "cell_type": "code",
   "execution_count": 69,
   "metadata": {},
   "outputs": [
    {
     "data": {
      "text/plain": [
       "array([[-1.08522187,  0.10953866,  1.20284546, ...,  0.        ,\n",
       "         1.        ,  0.        ],\n",
       "       [-1.23840735, -0.66599604,  1.20284546, ...,  1.        ,\n",
       "         0.        ,  0.        ],\n",
       "       [ 1.82530238, -1.44153073, -0.83136199, ...,  0.        ,\n",
       "         0.        ,  1.        ],\n",
       "       ...,\n",
       "       [ 1.21256044, -1.44153073,  1.20284546, ...,  0.        ,\n",
       "         0.        ,  1.        ],\n",
       "       [-1.08522187,  1.66060804,  1.20284546, ...,  1.        ,\n",
       "         0.        ,  0.        ],\n",
       "       [ 1.82530238,  1.66060804,  1.20284546, ...,  1.        ,\n",
       "         0.        ,  0.        ]])"
      ]
     },
     "execution_count": 69,
     "metadata": {},
     "output_type": "execute_result"
    }
   ],
   "source": [
    "old_df_prepared = old_full_pipeline.fit_transform(df)\n",
    "old_df_prepared"
   ]
  },
  {
   "cell_type": "code",
   "execution_count": 70,
   "metadata": {},
   "outputs": [
    {
     "data": {
      "text/plain": [
       "True"
      ]
     },
     "execution_count": 70,
     "metadata": {},
     "output_type": "execute_result"
    }
   ],
   "source": [
    "np.allclose(df_prepared, old_df_prepared)"
   ]
  },
  {
   "cell_type": "code",
   "execution_count": 71,
   "metadata": {},
   "outputs": [
    {
     "data": {
      "text/plain": [
       "(430061, 11)"
      ]
     },
     "execution_count": 71,
     "metadata": {},
     "output_type": "execute_result"
    }
   ],
   "source": [
    "df_prepared.shape"
   ]
  },
  {
   "cell_type": "markdown",
   "metadata": {},
   "source": [
    "* No início, haviam 537577 linhas no dataset\n",
    "* Agora, existem 430061 linhas"
   ]
  },
  {
   "cell_type": "markdown",
   "metadata": {},
   "source": [
    "## Select and train a model"
   ]
  },
  {
   "cell_type": "markdown",
   "metadata": {},
   "source": [
    "* Regressão Linear"
   ]
  },
  {
   "cell_type": "code",
   "execution_count": 72,
   "metadata": {},
   "outputs": [
    {
     "data": {
      "text/plain": [
       "LinearRegression()"
      ]
     },
     "execution_count": 72,
     "metadata": {},
     "output_type": "execute_result"
    }
   ],
   "source": [
    "from sklearn.linear_model import LinearRegression\n",
    "\n",
    "lin_reg = LinearRegression()\n",
    "lin_reg.fit(df_prepared, df_labels)"
   ]
  },
  {
   "cell_type": "code",
   "execution_count": 73,
   "metadata": {},
   "outputs": [
    {
     "name": "stdout",
     "output_type": "stream",
     "text": [
      "Predictions: [ 7788.4375  8094.5    10115.125  11505.8125 11742.5625]\n"
     ]
    }
   ],
   "source": [
    "# let's try the full preprocessing pipeline on a few training instances\n",
    "some_data = df.iloc[:5]\n",
    "some_labels = df_labels.iloc[:5]\n",
    "some_data_prepared = full_pipeline.transform(some_data)\n",
    "\n",
    "print(\"Predictions:\", lin_reg.predict(some_data_prepared))"
   ]
  },
  {
   "cell_type": "code",
   "execution_count": 74,
   "metadata": {},
   "outputs": [
    {
     "name": "stdout",
     "output_type": "stream",
     "text": [
      "Labels: [6080, 7922, 5235, 11615, 11689]\n"
     ]
    }
   ],
   "source": [
    "print(\"Labels:\", list(some_labels))"
   ]
  },
  {
   "cell_type": "code",
   "execution_count": 75,
   "metadata": {},
   "outputs": [
    {
     "data": {
      "text/plain": [
       "array([[-1.08522187,  0.10953866,  1.20284546,  0.72044017, -0.13756457,\n",
       "        -0.08930753,  1.        ,  0.        ,  0.        ,  1.        ,\n",
       "         0.        ],\n",
       "       [-1.23840735, -0.66599604,  1.20284546,  0.72044017, -0.13756457,\n",
       "        -0.08930753,  0.        ,  1.        ,  1.        ,  0.        ,\n",
       "         0.        ],\n",
       "       [ 1.82530238, -1.44153073, -0.83136199, -0.07900152, -0.13756457,\n",
       "        -0.08930753,  0.        ,  1.        ,  0.        ,  0.        ,\n",
       "         1.        ],\n",
       "       [-0.16610895,  1.66060804,  1.20284546, -1.14492377, -0.37341766,\n",
       "         2.08361359,  0.        ,  1.        ,  1.        ,  0.        ,\n",
       "         0.        ],\n",
       "       [ 1.36574592, -0.66599604, -0.83136199, -1.14492377, -1.78853625,\n",
       "         0.3452767 ,  0.        ,  1.        ,  0.        ,  1.        ,\n",
       "         0.        ]])"
      ]
     },
     "execution_count": 75,
     "metadata": {},
     "output_type": "execute_result"
    }
   ],
   "source": [
    "some_data_prepared"
   ]
  },
  {
   "cell_type": "markdown",
   "metadata": {},
   "source": [
    "* Funciona, embora não seja precisa (a primeira previsão tem cerca de 20% de erro)\n",
    "* 7788.4375 para 6080 -> +/- 21,9% de diferença "
   ]
  },
  {
   "cell_type": "code",
   "execution_count": 76,
   "metadata": {},
   "outputs": [
    {
     "data": {
      "text/plain": [
       "4698.440204710094"
      ]
     },
     "execution_count": 76,
     "metadata": {},
     "output_type": "execute_result"
    }
   ],
   "source": [
    "#RMSE - Mean squared error\n",
    "\n",
    "from sklearn.metrics import mean_squared_error\n",
    "\n",
    "df_predictions = lin_reg.predict(df_prepared)\n",
    "lin_mse = mean_squared_error(df_labels, df_predictions)\n",
    "lin_rmse = np.sqrt(lin_mse)\n",
    "lin_rmse"
   ]
  },
  {
   "cell_type": "code",
   "execution_count": 77,
   "metadata": {},
   "outputs": [
    {
     "data": {
      "text/plain": [
       "3616.300137509563"
      ]
     },
     "execution_count": 77,
     "metadata": {},
     "output_type": "execute_result"
    }
   ],
   "source": [
    "#MAE - Mean absolute error\n",
    "\n",
    "from sklearn.metrics import mean_absolute_error\n",
    "\n",
    "lin_mae = mean_absolute_error(df_labels, df_predictions)\n",
    "lin_mae"
   ]
  },
  {
   "cell_type": "markdown",
   "metadata": {},
   "source": [
    "* Árvores de Decisão"
   ]
  },
  {
   "cell_type": "code",
   "execution_count": 78,
   "metadata": {},
   "outputs": [
    {
     "data": {
      "text/plain": [
       "DecisionTreeRegressor(random_state=42)"
      ]
     },
     "execution_count": 78,
     "metadata": {},
     "output_type": "execute_result"
    }
   ],
   "source": [
    "from sklearn.tree import DecisionTreeRegressor\n",
    "\n",
    "tree_reg = DecisionTreeRegressor(random_state=42)\n",
    "tree_reg.fit(df_prepared, df_labels)"
   ]
  },
  {
   "cell_type": "code",
   "execution_count": 79,
   "metadata": {},
   "outputs": [
    {
     "data": {
      "text/plain": [
       "2511.614698656404"
      ]
     },
     "execution_count": 79,
     "metadata": {},
     "output_type": "execute_result"
    }
   ],
   "source": [
    "df_predictions = tree_reg.predict(df_prepared)\n",
    "tree_mse = mean_squared_error(df_labels, df_predictions)\n",
    "tree_rmse = np.sqrt(tree_mse)\n",
    "tree_rmse"
   ]
  },
  {
   "cell_type": "markdown",
   "metadata": {},
   "source": [
    "* Random Forest Regressor"
   ]
  },
  {
   "cell_type": "code",
   "execution_count": 80,
   "metadata": {
    "scrolled": true
   },
   "outputs": [
    {
     "data": {
      "text/plain": [
       "RandomForestRegressor(n_estimators=10, random_state=42)"
      ]
     },
     "execution_count": 80,
     "metadata": {},
     "output_type": "execute_result"
    }
   ],
   "source": [
    "from sklearn.ensemble import RandomForestRegressor\n",
    "\n",
    "forest_reg = RandomForestRegressor(n_estimators=10, random_state=42)\n",
    "forest_reg.fit(df_prepared, df_labels)"
   ]
  },
  {
   "cell_type": "code",
   "execution_count": 81,
   "metadata": {},
   "outputs": [
    {
     "data": {
      "text/plain": [
       "2567.3926371329603"
      ]
     },
     "execution_count": 81,
     "metadata": {},
     "output_type": "execute_result"
    }
   ],
   "source": [
    "df_predictions = forest_reg.predict(df_prepared)\n",
    "forest_mse = mean_squared_error(df_labels, df_predictions)\n",
    "forest_rmse = np.sqrt(forest_mse)\n",
    "forest_rmse"
   ]
  },
  {
   "cell_type": "markdown",
   "metadata": {},
   "source": [
    "### Avaliando melhor com Validação Cruzada"
   ]
  },
  {
   "cell_type": "markdown",
   "metadata": {},
   "source": [
    "* Árvores de Decisão"
   ]
  },
  {
   "cell_type": "code",
   "execution_count": 82,
   "metadata": {},
   "outputs": [],
   "source": [
    "from sklearn.model_selection import cross_val_score\n",
    "\n",
    "scores = cross_val_score(tree_reg, df_prepared, df_labels,\n",
    "                         scoring=\"neg_mean_squared_error\", cv=10)\n",
    "tree_rmse_scores = np.sqrt(-scores)"
   ]
  },
  {
   "cell_type": "code",
   "execution_count": 83,
   "metadata": {},
   "outputs": [
    {
     "name": "stdout",
     "output_type": "stream",
     "text": [
      "Scores: [3242.21081799 3240.06091506 3258.15457359 3236.49788007 3223.05660966\n",
      " 3260.02329743 3253.06285082 3254.82063309 3243.0235843  3268.50480745]\n",
      "Mean: 3247.941596944711\n",
      "Standard deviation: 12.712283254035556\n"
     ]
    }
   ],
   "source": [
    "def display_scores(scores):\n",
    "    print(\"Scores:\", scores)\n",
    "    print(\"Mean:\", scores.mean())\n",
    "    print(\"Standard deviation:\", scores.std())\n",
    "\n",
    "display_scores(tree_rmse_scores)"
   ]
  },
  {
   "cell_type": "markdown",
   "metadata": {},
   "source": [
    "* Random Forest Regressor"
   ]
  },
  {
   "cell_type": "code",
   "execution_count": 84,
   "metadata": {},
   "outputs": [
    {
     "name": "stdout",
     "output_type": "stream",
     "text": [
      "Scores: [3093.62505475 3096.61739872 3099.97415404 3096.77565746 3093.37820088\n",
      " 3113.25023394 3110.95535262 3106.15728503 3104.41889439 3127.31649143]\n",
      "Mean: 3104.246872324635\n",
      "Standard deviation: 10.125146371552066\n"
     ]
    }
   ],
   "source": [
    "from sklearn.model_selection import cross_val_score\n",
    "\n",
    "forest_scores = cross_val_score(forest_reg, df_prepared, df_labels,\n",
    "                                scoring=\"neg_mean_squared_error\", cv=10)\n",
    "forest_rmse_scores = np.sqrt(-forest_scores)\n",
    "display_scores(forest_rmse_scores)"
   ]
  },
  {
   "cell_type": "markdown",
   "metadata": {},
   "source": [
    "* Regressão Linear"
   ]
  },
  {
   "cell_type": "code",
   "execution_count": 85,
   "metadata": {},
   "outputs": [
    {
     "name": "stdout",
     "output_type": "stream",
     "text": [
      "Scores: [4689.75612327 4687.01666743 4684.90024194 4703.85367844 4679.17265164\n",
      " 4712.07681919 4700.65271483 4703.79048731 4706.84013052 4717.63997825]\n",
      "Mean: 4698.569949281753\n",
      "Standard deviation: 12.034471596146583\n"
     ]
    }
   ],
   "source": [
    "from sklearn.model_selection import cross_val_score\n",
    "\n",
    "\n",
    "lin_scores = cross_val_score(lin_reg, df_prepared, df_labels, \n",
    "                             scoring=\"neg_mean_squared_error\", cv=10)\n",
    "lin_rmse_scores = np.sqrt(-lin_scores)\n",
    "display_scores(lin_rmse_scores)"
   ]
  },
  {
   "cell_type": "markdown",
   "metadata": {},
   "source": [
    "### Resultados"
   ]
  },
  {
   "cell_type": "code",
   "execution_count": 128,
   "metadata": {
    "scrolled": true
   },
   "outputs": [
    {
     "data": {
      "image/png": "[encoded data removed]",
      "text/plain": [
       "<Figure size 720x360 with 1 Axes>"
      ]
     },
     "metadata": {
      "needs_background": "light"
     },
     "output_type": "display_data"
    }
   ],
   "source": [
    "plt.figure(figsize=(10,5))\n",
    "modelos = ['Random Forest Regressor','Árvores de Decisão','Regressão Linear']\n",
    "rmse_results = [forest_rmse_scores.mean(),tree_rmse_scores.mean(),lin_rmse_scores.mean()]\n",
    "plt.bar(modelos,rmse_results)\n",
    "plt.show()"
   ]
  },
  {
   "cell_type": "markdown",
   "metadata": {},
   "source": [
    "* O modelo que apresentou o melhor resultado foi o Random Forest Regressor, com uma média de 3104.25 e Desvio padrão de 10.12. \n",
    "\n",
    "* O modelo que apresentou o pior resultado foi Regressão Linear, com uma média de 4698.57."
   ]
  },
  {
   "cell_type": "markdown",
   "metadata": {},
   "source": [
    "## Ajustando o modelo"
   ]
  },
  {
   "cell_type": "code",
   "execution_count": 86,
   "metadata": {},
   "outputs": [
    {
     "data": {
      "text/plain": [
       "GridSearchCV(cv=5, estimator=RandomForestRegressor(random_state=42),\n",
       "             param_grid=[{'max_features': [2, 4, 6, 8],\n",
       "                          'n_estimators': [3, 10, 30]},\n",
       "                         {'bootstrap': [False], 'max_features': [2, 3, 4],\n",
       "                          'n_estimators': [3, 10]}],\n",
       "             return_train_score=True, scoring='neg_mean_squared_error')"
      ]
     },
     "execution_count": 86,
     "metadata": {},
     "output_type": "execute_result"
    }
   ],
   "source": [
    "from sklearn.model_selection import GridSearchCV\n",
    "\n",
    "param_grid = [\n",
    "    # try 12 (3×4) combinations of hyperparameters\n",
    "    {'n_estimators': [3, 10, 30], 'max_features': [2, 4, 6, 8]},\n",
    "    # then try 6 (2×3) combinations with bootstrap set as False\n",
    "    {'bootstrap': [False], 'n_estimators': [3, 10], 'max_features': [2, 3, 4]},\n",
    "  ]\n",
    "\n",
    "forest_reg = RandomForestRegressor(random_state=42)\n",
    "# train across 5 folds, that's a total of (12+6)*5=90 rounds of training \n",
    "grid_search = GridSearchCV(forest_reg, param_grid, cv=5,\n",
    "                           scoring='neg_mean_squared_error', return_train_score=True)\n",
    "grid_search.fit(df_prepared, df_labels)"
   ]
  },
  {
   "cell_type": "code",
   "execution_count": 87,
   "metadata": {},
   "outputs": [
    {
     "data": {
      "text/plain": [
       "{'max_features': 6, 'n_estimators': 30}"
      ]
     },
     "execution_count": 87,
     "metadata": {},
     "output_type": "execute_result"
    }
   ],
   "source": [
    "grid_search.best_params_"
   ]
  },
  {
   "cell_type": "code",
   "execution_count": 88,
   "metadata": {},
   "outputs": [
    {
     "data": {
      "text/plain": [
       "RandomForestRegressor(max_features=6, n_estimators=30, random_state=42)"
      ]
     },
     "execution_count": 88,
     "metadata": {},
     "output_type": "execute_result"
    }
   ],
   "source": [
    "grid_search.best_estimator_"
   ]
  },
  {
   "cell_type": "code",
   "execution_count": 89,
   "metadata": {},
   "outputs": [
    {
     "name": "stdout",
     "output_type": "stream",
     "text": [
      "3240.0368586654963 {'max_features': 2, 'n_estimators': 3}\n",
      "3146.354782385478 {'max_features': 2, 'n_estimators': 10}\n",
      "3113.8502373824194 {'max_features': 2, 'n_estimators': 30}\n",
      "3195.147052745593 {'max_features': 4, 'n_estimators': 3}\n",
      "3116.5286415303335 {'max_features': 4, 'n_estimators': 10}\n",
      "3092.1908968214607 {'max_features': 4, 'n_estimators': 30}\n",
      "3189.7194065643685 {'max_features': 6, 'n_estimators': 3}\n",
      "3113.69593038091 {'max_features': 6, 'n_estimators': 10}\n",
      "3090.7681177947175 {'max_features': 6, 'n_estimators': 30}\n",
      "3190.8519135983893 {'max_features': 8, 'n_estimators': 3}\n",
      "3113.550185792652 {'max_features': 8, 'n_estimators': 10}\n",
      "3091.525807896673 {'max_features': 8, 'n_estimators': 30}\n",
      "3234.9765027658 {'bootstrap': False, 'max_features': 2, 'n_estimators': 3}\n",
      "3208.8785192126293 {'bootstrap': False, 'max_features': 2, 'n_estimators': 10}\n",
      "3220.9734450693413 {'bootstrap': False, 'max_features': 3, 'n_estimators': 3}\n",
      "3193.3137227549933 {'bootstrap': False, 'max_features': 3, 'n_estimators': 10}\n",
      "3213.594775593821 {'bootstrap': False, 'max_features': 4, 'n_estimators': 3}\n",
      "3191.331715348355 {'bootstrap': False, 'max_features': 4, 'n_estimators': 10}\n"
     ]
    }
   ],
   "source": [
    "cvres = grid_search.cv_results_\n",
    "for mean_score, params in zip(cvres[\"mean_test_score\"], cvres[\"params\"]):\n",
    "    print(np.sqrt(-mean_score), params)"
   ]
  },
  {
   "cell_type": "code",
   "execution_count": 90,
   "metadata": {},
   "outputs": [
    {
     "data": {
      "text/html": [
       "<div>\n",
       "<style scoped>\n",
       "    .dataframe tbody tr th:only-of-type {\n",
       "        vertical-align: middle;\n",
       "    }\n",
       "\n",
       "    .dataframe tbody tr th {\n",
       "        vertical-align: top;\n",
       "    }\n",
       "\n",
       "    .dataframe thead th {\n",
       "        text-align: right;\n",
       "    }\n",
       "</style>\n",
       "<table border=\"1\" class=\"dataframe\">\n",
       "  <thead>\n",
       "    <tr style=\"text-align: right;\">\n",
       "      <th></th>\n",
       "      <th>mean_fit_time</th>\n",
       "      <th>std_fit_time</th>\n",
       "      <th>mean_score_time</th>\n",
       "      <th>std_score_time</th>\n",
       "      <th>param_max_features</th>\n",
       "      <th>param_n_estimators</th>\n",
       "      <th>param_bootstrap</th>\n",
       "      <th>params</th>\n",
       "      <th>split0_test_score</th>\n",
       "      <th>split1_test_score</th>\n",
       "      <th>...</th>\n",
       "      <th>mean_test_score</th>\n",
       "      <th>std_test_score</th>\n",
       "      <th>rank_test_score</th>\n",
       "      <th>split0_train_score</th>\n",
       "      <th>split1_train_score</th>\n",
       "      <th>split2_train_score</th>\n",
       "      <th>split3_train_score</th>\n",
       "      <th>split4_train_score</th>\n",
       "      <th>mean_train_score</th>\n",
       "      <th>std_train_score</th>\n",
       "    </tr>\n",
       "  </thead>\n",
       "  <tbody>\n",
       "    <tr>\n",
       "      <th>0</th>\n",
       "      <td>1.629461</td>\n",
       "      <td>0.132317</td>\n",
       "      <td>0.119012</td>\n",
       "      <td>0.017448</td>\n",
       "      <td>2</td>\n",
       "      <td>3</td>\n",
       "      <td>NaN</td>\n",
       "      <td>{'max_features': 2, 'n_estimators': 3}</td>\n",
       "      <td>-1.050610e+07</td>\n",
       "      <td>-1.044559e+07</td>\n",
       "      <td>...</td>\n",
       "      <td>-1.049784e+07</td>\n",
       "      <td>34908.602396</td>\n",
       "      <td>18</td>\n",
       "      <td>-6.893835e+06</td>\n",
       "      <td>-6.870003e+06</td>\n",
       "      <td>-6.860087e+06</td>\n",
       "      <td>-6.877834e+06</td>\n",
       "      <td>-6.829851e+06</td>\n",
       "      <td>-6.866322e+06</td>\n",
       "      <td>21316.968178</td>\n",
       "    </tr>\n",
       "    <tr>\n",
       "      <th>1</th>\n",
       "      <td>5.273632</td>\n",
       "      <td>0.390773</td>\n",
       "      <td>0.392229</td>\n",
       "      <td>0.033722</td>\n",
       "      <td>2</td>\n",
       "      <td>10</td>\n",
       "      <td>NaN</td>\n",
       "      <td>{'max_features': 2, 'n_estimators': 10}</td>\n",
       "      <td>-9.861214e+06</td>\n",
       "      <td>-9.882527e+06</td>\n",
       "      <td>...</td>\n",
       "      <td>-9.899548e+06</td>\n",
       "      <td>25471.543877</td>\n",
       "      <td>8</td>\n",
       "      <td>-6.454970e+06</td>\n",
       "      <td>-6.438918e+06</td>\n",
       "      <td>-6.441489e+06</td>\n",
       "      <td>-6.438186e+06</td>\n",
       "      <td>-6.422940e+06</td>\n",
       "      <td>-6.439301e+06</td>\n",
       "      <td>10192.051478</td>\n",
       "    </tr>\n",
       "    <tr>\n",
       "      <th>2</th>\n",
       "      <td>19.058816</td>\n",
       "      <td>1.963114</td>\n",
       "      <td>1.362018</td>\n",
       "      <td>0.224190</td>\n",
       "      <td>2</td>\n",
       "      <td>30</td>\n",
       "      <td>NaN</td>\n",
       "      <td>{'max_features': 2, 'n_estimators': 30}</td>\n",
       "      <td>-9.669886e+06</td>\n",
       "      <td>-9.669815e+06</td>\n",
       "      <td>...</td>\n",
       "      <td>-9.696063e+06</td>\n",
       "      <td>22302.223665</td>\n",
       "      <td>6</td>\n",
       "      <td>-6.325215e+06</td>\n",
       "      <td>-6.307908e+06</td>\n",
       "      <td>-6.308889e+06</td>\n",
       "      <td>-6.305790e+06</td>\n",
       "      <td>-6.296687e+06</td>\n",
       "      <td>-6.308898e+06</td>\n",
       "      <td>9230.594168</td>\n",
       "    </tr>\n",
       "    <tr>\n",
       "      <th>3</th>\n",
       "      <td>2.448970</td>\n",
       "      <td>0.308115</td>\n",
       "      <td>0.116300</td>\n",
       "      <td>0.006370</td>\n",
       "      <td>4</td>\n",
       "      <td>3</td>\n",
       "      <td>NaN</td>\n",
       "      <td>{'max_features': 4, 'n_estimators': 3}</td>\n",
       "      <td>-1.017884e+07</td>\n",
       "      <td>-1.017264e+07</td>\n",
       "      <td>...</td>\n",
       "      <td>-1.020896e+07</td>\n",
       "      <td>39056.123255</td>\n",
       "      <td>13</td>\n",
       "      <td>-6.795727e+06</td>\n",
       "      <td>-6.774993e+06</td>\n",
       "      <td>-6.779353e+06</td>\n",
       "      <td>-6.787680e+06</td>\n",
       "      <td>-6.769849e+06</td>\n",
       "      <td>-6.781521e+06</td>\n",
       "      <td>9201.108472</td>\n",
       "    </tr>\n",
       "    <tr>\n",
       "      <th>4</th>\n",
       "      <td>7.528435</td>\n",
       "      <td>0.603233</td>\n",
       "      <td>0.390434</td>\n",
       "      <td>0.071013</td>\n",
       "      <td>4</td>\n",
       "      <td>10</td>\n",
       "      <td>NaN</td>\n",
       "      <td>{'max_features': 4, 'n_estimators': 10}</td>\n",
       "      <td>-9.659570e+06</td>\n",
       "      <td>-9.708552e+06</td>\n",
       "      <td>...</td>\n",
       "      <td>-9.712751e+06</td>\n",
       "      <td>38457.175518</td>\n",
       "      <td>7</td>\n",
       "      <td>-6.410785e+06</td>\n",
       "      <td>-6.394490e+06</td>\n",
       "      <td>-6.395064e+06</td>\n",
       "      <td>-6.396577e+06</td>\n",
       "      <td>-6.386922e+06</td>\n",
       "      <td>-6.396768e+06</td>\n",
       "      <td>7765.713263</td>\n",
       "    </tr>\n",
       "    <tr>\n",
       "      <th>5</th>\n",
       "      <td>24.323831</td>\n",
       "      <td>1.601757</td>\n",
       "      <td>1.147469</td>\n",
       "      <td>0.138064</td>\n",
       "      <td>4</td>\n",
       "      <td>30</td>\n",
       "      <td>NaN</td>\n",
       "      <td>{'max_features': 4, 'n_estimators': 30}</td>\n",
       "      <td>-9.518259e+06</td>\n",
       "      <td>-9.548200e+06</td>\n",
       "      <td>...</td>\n",
       "      <td>-9.561645e+06</td>\n",
       "      <td>33513.679527</td>\n",
       "      <td>3</td>\n",
       "      <td>-6.298719e+06</td>\n",
       "      <td>-6.284073e+06</td>\n",
       "      <td>-6.283883e+06</td>\n",
       "      <td>-6.283854e+06</td>\n",
       "      <td>-6.274790e+06</td>\n",
       "      <td>-6.285064e+06</td>\n",
       "      <td>7692.235199</td>\n",
       "    </tr>\n",
       "    <tr>\n",
       "      <th>6</th>\n",
       "      <td>4.197272</td>\n",
       "      <td>0.270039</td>\n",
       "      <td>0.138475</td>\n",
       "      <td>0.014813</td>\n",
       "      <td>6</td>\n",
       "      <td>3</td>\n",
       "      <td>NaN</td>\n",
       "      <td>{'max_features': 6, 'n_estimators': 3}</td>\n",
       "      <td>-1.015606e+07</td>\n",
       "      <td>-1.018157e+07</td>\n",
       "      <td>...</td>\n",
       "      <td>-1.017431e+07</td>\n",
       "      <td>30150.717548</td>\n",
       "      <td>9</td>\n",
       "      <td>-6.790710e+06</td>\n",
       "      <td>-6.766711e+06</td>\n",
       "      <td>-6.763796e+06</td>\n",
       "      <td>-6.769401e+06</td>\n",
       "      <td>-6.756301e+06</td>\n",
       "      <td>-6.769384e+06</td>\n",
       "      <td>11526.546034</td>\n",
       "    </tr>\n",
       "    <tr>\n",
       "      <th>7</th>\n",
       "      <td>11.646795</td>\n",
       "      <td>1.431021</td>\n",
       "      <td>0.360296</td>\n",
       "      <td>0.029480</td>\n",
       "      <td>6</td>\n",
       "      <td>10</td>\n",
       "      <td>NaN</td>\n",
       "      <td>{'max_features': 6, 'n_estimators': 10}</td>\n",
       "      <td>-9.657909e+06</td>\n",
       "      <td>-9.707717e+06</td>\n",
       "      <td>...</td>\n",
       "      <td>-9.695102e+06</td>\n",
       "      <td>27891.594431</td>\n",
       "      <td>5</td>\n",
       "      <td>-6.410204e+06</td>\n",
       "      <td>-6.392781e+06</td>\n",
       "      <td>-6.390645e+06</td>\n",
       "      <td>-6.390927e+06</td>\n",
       "      <td>-6.382196e+06</td>\n",
       "      <td>-6.393350e+06</td>\n",
       "      <td>9186.592373</td>\n",
       "    </tr>\n",
       "    <tr>\n",
       "      <th>8</th>\n",
       "      <td>29.532056</td>\n",
       "      <td>4.120085</td>\n",
       "      <td>1.196819</td>\n",
       "      <td>0.472886</td>\n",
       "      <td>6</td>\n",
       "      <td>30</td>\n",
       "      <td>NaN</td>\n",
       "      <td>{'max_features': 6, 'n_estimators': 30}</td>\n",
       "      <td>-9.515521e+06</td>\n",
       "      <td>-9.541462e+06</td>\n",
       "      <td>...</td>\n",
       "      <td>-9.552848e+06</td>\n",
       "      <td>30094.715293</td>\n",
       "      <td>1</td>\n",
       "      <td>-6.298800e+06</td>\n",
       "      <td>-6.284036e+06</td>\n",
       "      <td>-6.283412e+06</td>\n",
       "      <td>-6.282862e+06</td>\n",
       "      <td>-6.273800e+06</td>\n",
       "      <td>-6.284582e+06</td>\n",
       "      <td>8037.915009</td>\n",
       "    </tr>\n",
       "    <tr>\n",
       "      <th>9</th>\n",
       "      <td>6.040411</td>\n",
       "      <td>1.029088</td>\n",
       "      <td>0.202212</td>\n",
       "      <td>0.064195</td>\n",
       "      <td>8</td>\n",
       "      <td>3</td>\n",
       "      <td>NaN</td>\n",
       "      <td>{'max_features': 8, 'n_estimators': 3}</td>\n",
       "      <td>-1.015439e+07</td>\n",
       "      <td>-1.017298e+07</td>\n",
       "      <td>...</td>\n",
       "      <td>-1.018154e+07</td>\n",
       "      <td>22313.619486</td>\n",
       "      <td>10</td>\n",
       "      <td>-6.793848e+06</td>\n",
       "      <td>-6.775764e+06</td>\n",
       "      <td>-6.773698e+06</td>\n",
       "      <td>-6.772517e+06</td>\n",
       "      <td>-6.762612e+06</td>\n",
       "      <td>-6.775688e+06</td>\n",
       "      <td>10146.941202</td>\n",
       "    </tr>\n",
       "    <tr>\n",
       "      <th>10</th>\n",
       "      <td>14.684335</td>\n",
       "      <td>1.976008</td>\n",
       "      <td>0.486166</td>\n",
       "      <td>0.203469</td>\n",
       "      <td>8</td>\n",
       "      <td>10</td>\n",
       "      <td>NaN</td>\n",
       "      <td>{'max_features': 8, 'n_estimators': 10}</td>\n",
       "      <td>-9.665346e+06</td>\n",
       "      <td>-9.692693e+06</td>\n",
       "      <td>...</td>\n",
       "      <td>-9.694195e+06</td>\n",
       "      <td>25219.243780</td>\n",
       "      <td>4</td>\n",
       "      <td>-6.409189e+06</td>\n",
       "      <td>-6.392511e+06</td>\n",
       "      <td>-6.393344e+06</td>\n",
       "      <td>-6.393492e+06</td>\n",
       "      <td>-6.382875e+06</td>\n",
       "      <td>-6.394282e+06</td>\n",
       "      <td>8449.745326</td>\n",
       "    </tr>\n",
       "    <tr>\n",
       "      <th>11</th>\n",
       "      <td>40.603069</td>\n",
       "      <td>4.838966</td>\n",
       "      <td>1.360328</td>\n",
       "      <td>0.567968</td>\n",
       "      <td>8</td>\n",
       "      <td>30</td>\n",
       "      <td>NaN</td>\n",
       "      <td>{'max_features': 8, 'n_estimators': 30}</td>\n",
       "      <td>-9.520667e+06</td>\n",
       "      <td>-9.547099e+06</td>\n",
       "      <td>...</td>\n",
       "      <td>-9.557532e+06</td>\n",
       "      <td>26557.195154</td>\n",
       "      <td>2</td>\n",
       "      <td>-6.299135e+06</td>\n",
       "      <td>-6.283939e+06</td>\n",
       "      <td>-6.285118e+06</td>\n",
       "      <td>-6.284124e+06</td>\n",
       "      <td>-6.275128e+06</td>\n",
       "      <td>-6.285489e+06</td>\n",
       "      <td>7719.777830</td>\n",
       "    </tr>\n",
       "    <tr>\n",
       "      <th>12</th>\n",
       "      <td>1.898128</td>\n",
       "      <td>0.109468</td>\n",
       "      <td>0.119322</td>\n",
       "      <td>0.008489</td>\n",
       "      <td>2</td>\n",
       "      <td>3</td>\n",
       "      <td>False</td>\n",
       "      <td>{'bootstrap': False, 'max_features': 2, 'n_est...</td>\n",
       "      <td>-1.047665e+07</td>\n",
       "      <td>-1.043826e+07</td>\n",
       "      <td>...</td>\n",
       "      <td>-1.046507e+07</td>\n",
       "      <td>24993.605708</td>\n",
       "      <td>17</td>\n",
       "      <td>-6.083344e+06</td>\n",
       "      <td>-6.064610e+06</td>\n",
       "      <td>-6.064984e+06</td>\n",
       "      <td>-6.067969e+06</td>\n",
       "      <td>-6.059638e+06</td>\n",
       "      <td>-6.068109e+06</td>\n",
       "      <td>8073.328432</td>\n",
       "    </tr>\n",
       "    <tr>\n",
       "      <th>13</th>\n",
       "      <td>6.139524</td>\n",
       "      <td>0.310045</td>\n",
       "      <td>0.385942</td>\n",
       "      <td>0.016371</td>\n",
       "      <td>2</td>\n",
       "      <td>10</td>\n",
       "      <td>False</td>\n",
       "      <td>{'bootstrap': False, 'max_features': 2, 'n_est...</td>\n",
       "      <td>-1.029206e+07</td>\n",
       "      <td>-1.028769e+07</td>\n",
       "      <td>...</td>\n",
       "      <td>-1.029690e+07</td>\n",
       "      <td>19764.880520</td>\n",
       "      <td>14</td>\n",
       "      <td>-6.083345e+06</td>\n",
       "      <td>-6.064610e+06</td>\n",
       "      <td>-6.064985e+06</td>\n",
       "      <td>-6.067966e+06</td>\n",
       "      <td>-6.059640e+06</td>\n",
       "      <td>-6.068109e+06</td>\n",
       "      <td>8073.110187</td>\n",
       "    </tr>\n",
       "    <tr>\n",
       "      <th>14</th>\n",
       "      <td>2.306983</td>\n",
       "      <td>0.074857</td>\n",
       "      <td>0.112456</td>\n",
       "      <td>0.002671</td>\n",
       "      <td>3</td>\n",
       "      <td>3</td>\n",
       "      <td>False</td>\n",
       "      <td>{'bootstrap': False, 'max_features': 3, 'n_est...</td>\n",
       "      <td>-1.036299e+07</td>\n",
       "      <td>-1.034838e+07</td>\n",
       "      <td>...</td>\n",
       "      <td>-1.037467e+07</td>\n",
       "      <td>23572.121129</td>\n",
       "      <td>16</td>\n",
       "      <td>-6.083344e+06</td>\n",
       "      <td>-6.064610e+06</td>\n",
       "      <td>-6.064984e+06</td>\n",
       "      <td>-6.067966e+06</td>\n",
       "      <td>-6.059638e+06</td>\n",
       "      <td>-6.068109e+06</td>\n",
       "      <td>8073.280141</td>\n",
       "    </tr>\n",
       "    <tr>\n",
       "      <th>15</th>\n",
       "      <td>8.009670</td>\n",
       "      <td>0.390116</td>\n",
       "      <td>0.404106</td>\n",
       "      <td>0.043278</td>\n",
       "      <td>3</td>\n",
       "      <td>10</td>\n",
       "      <td>False</td>\n",
       "      <td>{'bootstrap': False, 'max_features': 3, 'n_est...</td>\n",
       "      <td>-1.017442e+07</td>\n",
       "      <td>-1.020418e+07</td>\n",
       "      <td>...</td>\n",
       "      <td>-1.019725e+07</td>\n",
       "      <td>17885.541910</td>\n",
       "      <td>12</td>\n",
       "      <td>-6.083344e+06</td>\n",
       "      <td>-6.064610e+06</td>\n",
       "      <td>-6.064985e+06</td>\n",
       "      <td>-6.067967e+06</td>\n",
       "      <td>-6.059638e+06</td>\n",
       "      <td>-6.068109e+06</td>\n",
       "      <td>8073.180274</td>\n",
       "    </tr>\n",
       "    <tr>\n",
       "      <th>16</th>\n",
       "      <td>3.303256</td>\n",
       "      <td>0.383077</td>\n",
       "      <td>0.119521</td>\n",
       "      <td>0.020056</td>\n",
       "      <td>4</td>\n",
       "      <td>3</td>\n",
       "      <td>False</td>\n",
       "      <td>{'bootstrap': False, 'max_features': 4, 'n_est...</td>\n",
       "      <td>-1.033440e+07</td>\n",
       "      <td>-1.033351e+07</td>\n",
       "      <td>...</td>\n",
       "      <td>-1.032719e+07</td>\n",
       "      <td>19650.492744</td>\n",
       "      <td>15</td>\n",
       "      <td>-6.083344e+06</td>\n",
       "      <td>-6.064611e+06</td>\n",
       "      <td>-6.064987e+06</td>\n",
       "      <td>-6.067966e+06</td>\n",
       "      <td>-6.059644e+06</td>\n",
       "      <td>-6.068111e+06</td>\n",
       "      <td>8071.805641</td>\n",
       "    </tr>\n",
       "    <tr>\n",
       "      <th>17</th>\n",
       "      <td>11.435595</td>\n",
       "      <td>0.967729</td>\n",
       "      <td>0.422443</td>\n",
       "      <td>0.063495</td>\n",
       "      <td>4</td>\n",
       "      <td>10</td>\n",
       "      <td>False</td>\n",
       "      <td>{'bootstrap': False, 'max_features': 4, 'n_est...</td>\n",
       "      <td>-1.018234e+07</td>\n",
       "      <td>-1.019408e+07</td>\n",
       "      <td>...</td>\n",
       "      <td>-1.018460e+07</td>\n",
       "      <td>14469.043074</td>\n",
       "      <td>11</td>\n",
       "      <td>-6.083344e+06</td>\n",
       "      <td>-6.064610e+06</td>\n",
       "      <td>-6.064986e+06</td>\n",
       "      <td>-6.067966e+06</td>\n",
       "      <td>-6.059639e+06</td>\n",
       "      <td>-6.068109e+06</td>\n",
       "      <td>8073.025992</td>\n",
       "    </tr>\n",
       "  </tbody>\n",
       "</table>\n",
       "<p>18 rows × 23 columns</p>\n",
       "</div>"
      ],
      "text/plain": [
       "    mean_fit_time  std_fit_time  mean_score_time  std_score_time  \\\n",
       "0        1.629461      0.132317         0.119012        0.017448   \n",
       "1        5.273632      0.390773         0.392229        0.033722   \n",
       "2       19.058816      1.963114         1.362018        0.224190   \n",
       "3        2.448970      0.308115         0.116300        0.006370   \n",
       "4        7.528435      0.603233         0.390434        0.071013   \n",
       "5       24.323831      1.601757         1.147469        0.138064   \n",
       "6        4.197272      0.270039         0.138475        0.014813   \n",
       "7       11.646795      1.431021         0.360296        0.029480   \n",
       "8       29.532056      4.120085         1.196819        0.472886   \n",
       "9        6.040411      1.029088         0.202212        0.064195   \n",
       "10      14.684335      1.976008         0.486166        0.203469   \n",
       "11      40.603069      4.838966         1.360328        0.567968   \n",
       "12       1.898128      0.109468         0.119322        0.008489   \n",
       "13       6.139524      0.310045         0.385942        0.016371   \n",
       "14       2.306983      0.074857         0.112456        0.002671   \n",
       "15       8.009670      0.390116         0.404106        0.043278   \n",
       "16       3.303256      0.383077         0.119521        0.020056   \n",
       "17      11.435595      0.967729         0.422443        0.063495   \n",
       "\n",
       "   param_max_features param_n_estimators param_bootstrap  \\\n",
       "0                   2                  3             NaN   \n",
       "1                   2                 10             NaN   \n",
       "2                   2                 30             NaN   \n",
       "3                   4                  3             NaN   \n",
       "4                   4                 10             NaN   \n",
       "5                   4                 30             NaN   \n",
       "6                   6                  3             NaN   \n",
       "7                   6                 10             NaN   \n",
       "8                   6                 30             NaN   \n",
       "9                   8                  3             NaN   \n",
       "10                  8                 10             NaN   \n",
       "11                  8                 30             NaN   \n",
       "12                  2                  3           False   \n",
       "13                  2                 10           False   \n",
       "14                  3                  3           False   \n",
       "15                  3                 10           False   \n",
       "16                  4                  3           False   \n",
       "17                  4                 10           False   \n",
       "\n",
       "                                               params  split0_test_score  \\\n",
       "0              {'max_features': 2, 'n_estimators': 3}      -1.050610e+07   \n",
       "1             {'max_features': 2, 'n_estimators': 10}      -9.861214e+06   \n",
       "2             {'max_features': 2, 'n_estimators': 30}      -9.669886e+06   \n",
       "3              {'max_features': 4, 'n_estimators': 3}      -1.017884e+07   \n",
       "4             {'max_features': 4, 'n_estimators': 10}      -9.659570e+06   \n",
       "5             {'max_features': 4, 'n_estimators': 30}      -9.518259e+06   \n",
       "6              {'max_features': 6, 'n_estimators': 3}      -1.015606e+07   \n",
       "7             {'max_features': 6, 'n_estimators': 10}      -9.657909e+06   \n",
       "8             {'max_features': 6, 'n_estimators': 30}      -9.515521e+06   \n",
       "9              {'max_features': 8, 'n_estimators': 3}      -1.015439e+07   \n",
       "10            {'max_features': 8, 'n_estimators': 10}      -9.665346e+06   \n",
       "11            {'max_features': 8, 'n_estimators': 30}      -9.520667e+06   \n",
       "12  {'bootstrap': False, 'max_features': 2, 'n_est...      -1.047665e+07   \n",
       "13  {'bootstrap': False, 'max_features': 2, 'n_est...      -1.029206e+07   \n",
       "14  {'bootstrap': False, 'max_features': 3, 'n_est...      -1.036299e+07   \n",
       "15  {'bootstrap': False, 'max_features': 3, 'n_est...      -1.017442e+07   \n",
       "16  {'bootstrap': False, 'max_features': 4, 'n_est...      -1.033440e+07   \n",
       "17  {'bootstrap': False, 'max_features': 4, 'n_est...      -1.018234e+07   \n",
       "\n",
       "    split1_test_score  ...  mean_test_score  std_test_score  rank_test_score  \\\n",
       "0       -1.044559e+07  ...    -1.049784e+07    34908.602396               18   \n",
       "1       -9.882527e+06  ...    -9.899548e+06    25471.543877                8   \n",
       "2       -9.669815e+06  ...    -9.696063e+06    22302.223665                6   \n",
       "3       -1.017264e+07  ...    -1.020896e+07    39056.123255               13   \n",
       "4       -9.708552e+06  ...    -9.712751e+06    38457.175518                7   \n",
       "5       -9.548200e+06  ...    -9.561645e+06    33513.679527                3   \n",
       "6       -1.018157e+07  ...    -1.017431e+07    30150.717548                9   \n",
       "7       -9.707717e+06  ...    -9.695102e+06    27891.594431                5   \n",
       "8       -9.541462e+06  ...    -9.552848e+06    30094.715293                1   \n",
       "9       -1.017298e+07  ...    -1.018154e+07    22313.619486               10   \n",
       "10      -9.692693e+06  ...    -9.694195e+06    25219.243780                4   \n",
       "11      -9.547099e+06  ...    -9.557532e+06    26557.195154                2   \n",
       "12      -1.043826e+07  ...    -1.046507e+07    24993.605708               17   \n",
       "13      -1.028769e+07  ...    -1.029690e+07    19764.880520               14   \n",
       "14      -1.034838e+07  ...    -1.037467e+07    23572.121129               16   \n",
       "15      -1.020418e+07  ...    -1.019725e+07    17885.541910               12   \n",
       "16      -1.033351e+07  ...    -1.032719e+07    19650.492744               15   \n",
       "17      -1.019408e+07  ...    -1.018460e+07    14469.043074               11   \n",
       "\n",
       "    split0_train_score  split1_train_score  split2_train_score  \\\n",
       "0        -6.893835e+06       -6.870003e+06       -6.860087e+06   \n",
       "1        -6.454970e+06       -6.438918e+06       -6.441489e+06   \n",
       "2        -6.325215e+06       -6.307908e+06       -6.308889e+06   \n",
       "3        -6.795727e+06       -6.774993e+06       -6.779353e+06   \n",
       "4        -6.410785e+06       -6.394490e+06       -6.395064e+06   \n",
       "5        -6.298719e+06       -6.284073e+06       -6.283883e+06   \n",
       "6        -6.790710e+06       -6.766711e+06       -6.763796e+06   \n",
       "7        -6.410204e+06       -6.392781e+06       -6.390645e+06   \n",
       "8        -6.298800e+06       -6.284036e+06       -6.283412e+06   \n",
       "9        -6.793848e+06       -6.775764e+06       -6.773698e+06   \n",
       "10       -6.409189e+06       -6.392511e+06       -6.393344e+06   \n",
       "11       -6.299135e+06       -6.283939e+06       -6.285118e+06   \n",
       "12       -6.083344e+06       -6.064610e+06       -6.064984e+06   \n",
       "13       -6.083345e+06       -6.064610e+06       -6.064985e+06   \n",
       "14       -6.083344e+06       -6.064610e+06       -6.064984e+06   \n",
       "15       -6.083344e+06       -6.064610e+06       -6.064985e+06   \n",
       "16       -6.083344e+06       -6.064611e+06       -6.064987e+06   \n",
       "17       -6.083344e+06       -6.064610e+06       -6.064986e+06   \n",
       "\n",
       "    split3_train_score  split4_train_score  mean_train_score  std_train_score  \n",
       "0        -6.877834e+06       -6.829851e+06     -6.866322e+06     21316.968178  \n",
       "1        -6.438186e+06       -6.422940e+06     -6.439301e+06     10192.051478  \n",
       "2        -6.305790e+06       -6.296687e+06     -6.308898e+06      9230.594168  \n",
       "3        -6.787680e+06       -6.769849e+06     -6.781521e+06      9201.108472  \n",
       "4        -6.396577e+06       -6.386922e+06     -6.396768e+06      7765.713263  \n",
       "5        -6.283854e+06       -6.274790e+06     -6.285064e+06      7692.235199  \n",
       "6        -6.769401e+06       -6.756301e+06     -6.769384e+06     11526.546034  \n",
       "7        -6.390927e+06       -6.382196e+06     -6.393350e+06      9186.592373  \n",
       "8        -6.282862e+06       -6.273800e+06     -6.284582e+06      8037.915009  \n",
       "9        -6.772517e+06       -6.762612e+06     -6.775688e+06     10146.941202  \n",
       "10       -6.393492e+06       -6.382875e+06     -6.394282e+06      8449.745326  \n",
       "11       -6.284124e+06       -6.275128e+06     -6.285489e+06      7719.777830  \n",
       "12       -6.067969e+06       -6.059638e+06     -6.068109e+06      8073.328432  \n",
       "13       -6.067966e+06       -6.059640e+06     -6.068109e+06      8073.110187  \n",
       "14       -6.067966e+06       -6.059638e+06     -6.068109e+06      8073.280141  \n",
       "15       -6.067967e+06       -6.059638e+06     -6.068109e+06      8073.180274  \n",
       "16       -6.067966e+06       -6.059644e+06     -6.068111e+06      8071.805641  \n",
       "17       -6.067966e+06       -6.059639e+06     -6.068109e+06      8073.025992  \n",
       "\n",
       "[18 rows x 23 columns]"
      ]
     },
     "execution_count": 90,
     "metadata": {},
     "output_type": "execute_result"
    }
   ],
   "source": [
    "pd.DataFrame(grid_search.cv_results_)"
   ]
  },
  {
   "cell_type": "markdown",
   "metadata": {},
   "source": [
    "* A melhor solução obtido foi definindo os seguintes hiperparâmetros: 3090.7681177947175 {'max_features': 6, 'n_estimators': 30}. A pontuação RMSE é um pouco melhor do que o resultado obtido anteriormente utilizando os valores padrão do hiperparâmetro (3104.246872324635). O modelo foi ajustado com sucesso.\n"
   ]
  },
  {
   "cell_type": "markdown",
   "metadata": {},
   "source": [
    "### Analisando os melhores modelos e seus erros"
   ]
  },
  {
   "cell_type": "code",
   "execution_count": 91,
   "metadata": {},
   "outputs": [
    {
     "data": {
      "text/plain": [
       "array([0.07479204, 0.03786733, 0.01252365, 0.74266751, 0.07942745,\n",
       "       0.03638165, 0.00361939, 0.00380865, 0.00241203, 0.00235168,\n",
       "       0.00414862])"
      ]
     },
     "execution_count": 91,
     "metadata": {},
     "output_type": "execute_result"
    }
   ],
   "source": [
    "feature_importances = grid_search.best_estimator_.feature_importances_\n",
    "feature_importances"
   ]
  },
  {
   "cell_type": "code",
   "execution_count": 92,
   "metadata": {},
   "outputs": [
    {
     "data": {
      "text/plain": [
       "[(0.7426675077781029, 'Product_Category_1'),\n",
       " (0.07942745476556184, 'Product_Category_2'),\n",
       " (0.07479203970968261, 'Occupation'),\n",
       " (0.037867331203258324, 'Stay_In_Current_City_Years'),\n",
       " (0.03638164519151874, 'Product_Category_3'),\n",
       " (0.012523652931481518, 'Marital_Status'),\n",
       " (0.004148623402962749, 'M'),\n",
       " (0.0038086541193420556, 'occupation_pc3'),\n",
       " (0.003619385838549037, 'occupation_pc1'),\n",
       " (0.002412026228032563, 'marital_pc1'),\n",
       " (0.0023516788315077163, 'F')]"
      ]
     },
     "execution_count": 92,
     "metadata": {},
     "output_type": "execute_result"
    }
   ],
   "source": [
    "extra_attribs = ['occupation_pc1', 'occupation_pc3', 'marital_pc1']\n",
    "cat_encoder = full_pipeline.named_transformers_[\"cat\"]\n",
    "cat_one_hot_attribs = list(cat_encoder.categories_[0])\n",
    "attributes = num_attribs + extra_attribs + cat_one_hot_attribs\n",
    "sorted(zip(feature_importances, attributes), reverse=True)"
   ]
  },
  {
   "cell_type": "markdown",
   "metadata": {},
   "source": [
    "* Aparentemente, apenas a categoria 'Product_Category_1' é realmente útil."
   ]
  },
  {
   "cell_type": "markdown",
   "metadata": {},
   "source": [
    "### Avaliando o sistema de conjunto de testes"
   ]
  },
  {
   "cell_type": "code",
   "execution_count": 93,
   "metadata": {},
   "outputs": [],
   "source": [
    "final_model = grid_search.best_estimator_"
   ]
  },
  {
   "cell_type": "code",
   "execution_count": 94,
   "metadata": {},
   "outputs": [],
   "source": [
    "X_test = strat_test_set.drop('Purchase', axis=1)\n",
    "y_test = strat_test_set['Purchase'].copy()"
   ]
  },
  {
   "cell_type": "code",
   "execution_count": 95,
   "metadata": {},
   "outputs": [],
   "source": [
    "X_test_prepared = full_pipeline.transform(X_test)\n",
    "final_predictions = final_model.predict(X_test_prepared)"
   ]
  },
  {
   "cell_type": "code",
   "execution_count": 96,
   "metadata": {},
   "outputs": [],
   "source": [
    "final_mse = mean_squared_error(y_test, final_predictions)\n",
    "final_rmse = np.sqrt(final_mse)"
   ]
  },
  {
   "cell_type": "code",
   "execution_count": 97,
   "metadata": {},
   "outputs": [
    {
     "data": {
      "text/plain": [
       "9409267.118788516"
      ]
     },
     "execution_count": 97,
     "metadata": {},
     "output_type": "execute_result"
    }
   ],
   "source": [
    "final_mse"
   ]
  },
  {
   "cell_type": "code",
   "execution_count": 98,
   "metadata": {},
   "outputs": [
    {
     "data": {
      "text/plain": [
       "3067.4528714861317"
      ]
     },
     "execution_count": 98,
     "metadata": {},
     "output_type": "execute_result"
    }
   ],
   "source": [
    "final_rmse"
   ]
  },
  {
   "cell_type": "markdown",
   "metadata": {},
   "source": [
    "## Conclusão"
   ]
  },
  {
   "cell_type": "markdown",
   "metadata": {},
   "source": [
    "* O RMSE final foi melhor do que quando medido com validação, sendo feitos poucos ajustes de hiperparâmetros. A tabela abaixo mostra a diferença."
   ]
  },
  {
   "cell_type": "code",
   "execution_count": 144,
   "metadata": {},
   "outputs": [
    {
     "data": {
      "text/html": [
       "<div>\n",
       "<style scoped>\n",
       "    .dataframe tbody tr th:only-of-type {\n",
       "        vertical-align: middle;\n",
       "    }\n",
       "\n",
       "    .dataframe tbody tr th {\n",
       "        vertical-align: top;\n",
       "    }\n",
       "\n",
       "    .dataframe thead th {\n",
       "        text-align: right;\n",
       "    }\n",
       "</style>\n",
       "<table border=\"1\" class=\"dataframe\">\n",
       "  <thead>\n",
       "    <tr style=\"text-align: right;\">\n",
       "      <th></th>\n",
       "      <th>Modelo</th>\n",
       "      <th>Resultado</th>\n",
       "    </tr>\n",
       "  </thead>\n",
       "  <tbody>\n",
       "    <tr>\n",
       "      <th>0</th>\n",
       "      <td>RMSE Final</td>\n",
       "      <td>3067.452871</td>\n",
       "    </tr>\n",
       "    <tr>\n",
       "      <th>1</th>\n",
       "      <td>RMSE Cross-Validation</td>\n",
       "      <td>3104.246872</td>\n",
       "    </tr>\n",
       "  </tbody>\n",
       "</table>\n",
       "</div>"
      ],
      "text/plain": [
       "                  Modelo    Resultado\n",
       "0             RMSE Final  3067.452871\n",
       "1  RMSE Cross-Validation  3104.246872"
      ]
     },
     "execution_count": 144,
     "metadata": {},
     "output_type": "execute_result"
    }
   ],
   "source": [
    "resultados = {'Modelo': ['RMSE Final','RMSE Cross-Validation'],\n",
    "         'Resultado': [final_rmse, forest_rmse_scores.mean()]    \n",
    "        }\n",
    "\n",
    "table = pd.DataFrame(resultados, columns=[\"Modelo\",\"Resultado\"])\n",
    "table"
   ]
  },
  {
   "cell_type": "markdown",
   "metadata": {},
   "source": [
    "*  O objetivo proposto era determinar qual o melhor modelo de regressão para este problema. O Random Forest Regressor final foi o modelo que apresentou os melhores resultados, em relação à Regressão Linear e Árvores de Decisão, com o menor RMSE entre todos."
   ]
  },
  {
   "cell_type": "code",
   "execution_count": 145,
   "metadata": {},
   "outputs": [
    {
     "data": {
      "image/png": "[encoded data removed]",
      "text/plain": [
       "<Figure size 720x360 with 1 Axes>"
      ]
     },
     "metadata": {
      "needs_background": "light"
     },
     "output_type": "display_data"
    }
   ],
   "source": [
    "plt.figure(figsize=(10,5))\n",
    "modelos = ['Random Forest Regressor','Árvores de Decisão','Regressão Linear']\n",
    "rmse_results = [final_rmse,tree_rmse_scores.mean(),lin_rmse_scores.mean()]\n",
    "plt.bar(modelos,rmse_results)\n",
    "plt.show()"
   ]
  },
  {
   "cell_type": "code",
   "execution_count": null,
   "metadata": {},
   "outputs": [],
   "source": []
  }
 ],
 "metadata": {
  "kernelspec": {
   "display_name": "Python 3",
   "language": "python",
   "name": "python3"
  },
  "language_info": {
   "codemirror_mode": {
    "name": "ipython",
    "version": 3
   },
   "file_extension": ".py",
   "mimetype": "text/x-python",
   "name": "python",
   "nbconvert_exporter": "python",
   "pygments_lexer": "ipython3",
   "version": "3.8.3"
  }
 },
 "nbformat": 4,
 "nbformat_minor": 4
}
